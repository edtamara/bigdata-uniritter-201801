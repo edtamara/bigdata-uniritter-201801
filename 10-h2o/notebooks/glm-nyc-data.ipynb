{
 "cells": [
  {
   "cell_type": "markdown",
   "metadata": {},
   "source": [
    "## H2O modo local"
   ]
  },
  {
   "cell_type": "markdown",
   "metadata": {},
   "source": [
    "#### Inicialização"
   ]
  },
  {
   "cell_type": "code",
   "execution_count": 40,
   "metadata": {
    "scrolled": true
   },
   "outputs": [
    {
     "name": "stdout",
     "output_type": "stream",
     "text": [
      "Checking whether there is an H2O instance running at http://localhost:54321..... not found.\n",
      "Attempting to start a local H2O server...\n",
      "  Java Version: java version \"1.8.0_65\"; Java(TM) SE Runtime Environment (build 1.8.0_65-b17); Java HotSpot(TM) 64-Bit Server VM (build 25.65-b01, mixed mode)\n",
      "  Starting server from /anaconda/envs/h2o-aula/h2o_jar/h2o.jar\n",
      "  Ice root: /var/folders/41/lfsj80cj15vf7pvf3cn4tfjc0000gn/T/tmp8pw_gqug\n",
      "  JVM stdout: /var/folders/41/lfsj80cj15vf7pvf3cn4tfjc0000gn/T/tmp8pw_gqug/h2o_cristoferweber_started_from_python.out\n",
      "  JVM stderr: /var/folders/41/lfsj80cj15vf7pvf3cn4tfjc0000gn/T/tmp8pw_gqug/h2o_cristoferweber_started_from_python.err\n",
      "  Server is running at http://127.0.0.1:54321\n",
      "Connecting to H2O server at http://127.0.0.1:54321... successful.\n",
      "Warning: Your H2O cluster version is too old (4 months and 2 days)! Please download and install the latest version from http://h2o.ai/download/\n"
     ]
    },
    {
     "data": {
      "text/html": [
       "<div style=\"overflow:auto\"><table style=\"width:50%\"><tr><td>H2O cluster uptime:</td>\n",
       "<td>02 secs</td></tr>\n",
       "<tr><td>H2O cluster timezone:</td>\n",
       "<td>America/Sao_Paulo</td></tr>\n",
       "<tr><td>H2O data parsing timezone:</td>\n",
       "<td>UTC</td></tr>\n",
       "<tr><td>H2O cluster version:</td>\n",
       "<td>3.18.0.2</td></tr>\n",
       "<tr><td>H2O cluster version age:</td>\n",
       "<td>4 months and 2 days !!!</td></tr>\n",
       "<tr><td>H2O cluster name:</td>\n",
       "<td>H2O_from_python_cristoferweber_fwvytj</td></tr>\n",
       "<tr><td>H2O cluster total nodes:</td>\n",
       "<td>1</td></tr>\n",
       "<tr><td>H2O cluster free memory:</td>\n",
       "<td>3.556 Gb</td></tr>\n",
       "<tr><td>H2O cluster total cores:</td>\n",
       "<td>4</td></tr>\n",
       "<tr><td>H2O cluster allowed cores:</td>\n",
       "<td>4</td></tr>\n",
       "<tr><td>H2O cluster status:</td>\n",
       "<td>accepting new members, healthy</td></tr>\n",
       "<tr><td>H2O connection url:</td>\n",
       "<td>http://127.0.0.1:54321</td></tr>\n",
       "<tr><td>H2O connection proxy:</td>\n",
       "<td>None</td></tr>\n",
       "<tr><td>H2O internal security:</td>\n",
       "<td>False</td></tr>\n",
       "<tr><td>H2O API Extensions:</td>\n",
       "<td>XGBoost, Algos, AutoML, Core V3, Core V4</td></tr>\n",
       "<tr><td>Python version:</td>\n",
       "<td>3.5.5 final</td></tr></table></div>"
      ],
      "text/plain": [
       "<div style=\"overflow:auto\"><table style=\"width:50%\"><tr><td>H2O cluster uptime:</td>\n",
       "<td>02 secs</td></tr>\n",
       "<tr><td>H2O cluster timezone:</td>\n",
       "<td>America/Sao_Paulo</td></tr>\n",
       "<tr><td>H2O data parsing timezone:</td>\n",
       "<td>UTC</td></tr>\n",
       "<tr><td>H2O cluster version:</td>\n",
       "<td>3.18.0.2</td></tr>\n",
       "<tr><td>H2O cluster version age:</td>\n",
       "<td>4 months and 2 days !!!</td></tr>\n",
       "<tr><td>H2O cluster name:</td>\n",
       "<td>H2O_from_python_cristoferweber_fwvytj</td></tr>\n",
       "<tr><td>H2O cluster total nodes:</td>\n",
       "<td>1</td></tr>\n",
       "<tr><td>H2O cluster free memory:</td>\n",
       "<td>3.556 Gb</td></tr>\n",
       "<tr><td>H2O cluster total cores:</td>\n",
       "<td>4</td></tr>\n",
       "<tr><td>H2O cluster allowed cores:</td>\n",
       "<td>4</td></tr>\n",
       "<tr><td>H2O cluster status:</td>\n",
       "<td>accepting new members, healthy</td></tr>\n",
       "<tr><td>H2O connection url:</td>\n",
       "<td>http://127.0.0.1:54321</td></tr>\n",
       "<tr><td>H2O connection proxy:</td>\n",
       "<td>None</td></tr>\n",
       "<tr><td>H2O internal security:</td>\n",
       "<td>False</td></tr>\n",
       "<tr><td>H2O API Extensions:</td>\n",
       "<td>XGBoost, Algos, AutoML, Core V3, Core V4</td></tr>\n",
       "<tr><td>Python version:</td>\n",
       "<td>3.5.5 final</td></tr></table></div>"
      ]
     },
     "execution_count": 0,
     "metadata": {},
     "output_type": "execute_result"
    }
   ],
   "source": [
    "import h2o\n",
    "\n",
    "h2o.init()"
   ]
  },
  {
   "cell_type": "markdown",
   "metadata": {},
   "source": [
    "#### Carga dos dados de arquivo CSV"
   ]
  },
  {
   "cell_type": "markdown",
   "metadata": {},
   "source": [
    "Este arquivo é uma amostra do do dataset original em formato Parquet.\n",
    "\n",
    "A amostra foi de 5% do conteúdo original.\n",
    "\n",
    "Após amostragem, os seguintes filtros foram aplicados:\n",
    "\n",
    "- Distância (trip_distance) >= 1\n",
    "- Meio de pagamento Cartão (payment_type = 1)\n",
    "- 'Taxa Gorjeta' entre 0 e 0.99"
   ]
  },
  {
   "cell_type": "code",
   "execution_count": 41,
   "metadata": {},
   "outputs": [
    {
     "name": "stdout",
     "output_type": "stream",
     "text": [
      "Parse progress: |█████████████████████████████████████████████████████████| 100%\n"
     ]
    }
   ],
   "source": [
    "h2o_nyc_data = h2o.import_file(\"./data/nyc_yellow_taxi_sample.csv.gz\",\n",
    "                               destination_frame=\"nyc_data\",\n",
    "                               header=1,\n",
    "                               sep=\",\")"
   ]
  },
  {
   "cell_type": "markdown",
   "metadata": {},
   "source": [
    "##### Colunas disponíveis no H2OFrame:"
   ]
  },
  {
   "cell_type": "code",
   "execution_count": 42,
   "metadata": {},
   "outputs": [
    {
     "data": {
      "text/plain": [
       "['tpep_pickup_datetime',\n",
       " 'tpep_dropoff_datetime',\n",
       " 'passenger_count',\n",
       " 'trip_distance',\n",
       " 'pulocationid',\n",
       " 'dolocationid',\n",
       " 'ratecodeid',\n",
       " 'fare_amount',\n",
       " 'extra',\n",
       " 'mta_tax',\n",
       " 'improvement_surcharge',\n",
       " 'Tip_amount',\n",
       " 'Tolls_amount',\n",
       " 'Total_amount']"
      ]
     },
     "execution_count": 42,
     "metadata": {},
     "output_type": "execute_result"
    }
   ],
   "source": [
    "h2o_nyc_data.col_names"
   ]
  },
  {
   "cell_type": "markdown",
   "metadata": {},
   "source": [
    "##### Dimensões do H2OFrame:"
   ]
  },
  {
   "cell_type": "code",
   "execution_count": 43,
   "metadata": {},
   "outputs": [
    {
     "data": {
      "text/plain": [
       "[4487239, 14]"
      ]
     },
     "execution_count": 43,
     "metadata": {},
     "output_type": "execute_result"
    }
   ],
   "source": [
    "h2o_nyc_data.dim"
   ]
  },
  {
   "cell_type": "markdown",
   "metadata": {},
   "source": [
    "#### Criação de algumas features discutidas em aula"
   ]
  },
  {
   "cell_type": "markdown",
   "metadata": {},
   "source": [
    "Todas as features abaixo utilizam operadores e funções disponíveis no H2O.\n",
    "\n",
    "A conversão de 'dayOfWeek' para factor utiliza a abreviatura do dia da semana."
   ]
  },
  {
   "cell_type": "code",
   "execution_count": 44,
   "metadata": {},
   "outputs": [],
   "source": [
    "h2o_nyc_data['tip_rate'] = h2o_nyc_data['Tip_amount'] / h2o_nyc_data['Total_amount']\n",
    "\n",
    "h2o_nyc_data['pickup_hour'] = h2o_nyc_data['tpep_pickup_datetime'].hour()\n",
    "\n",
    "h2o_nyc_data['pickup_weekday'] = h2o_nyc_data['tpep_pickup_datetime'].dayOfWeek().asfactor()"
   ]
  },
  {
   "cell_type": "markdown",
   "metadata": {},
   "source": [
    "#### Um resumo do formato e conteúdo das variáveis.\n",
    "\n",
    "**Vejam nos mínimos e máximos se existem valores que podem afetar o desempenho do modelo.**"
   ]
  },
  {
   "cell_type": "code",
   "execution_count": null,
   "metadata": {},
   "outputs": [
    {
     "name": "stdout",
     "output_type": "stream",
     "text": [
      "Rows:4487239\n",
      "Cols:17\n",
      "\n",
      "\n"
     ]
    },
    {
     "data": {
      "text/html": [
       "<table>\n",
       "<thead>\n",
       "<tr><th>       </th><th>tpep_pickup_datetime  </th><th>tpep_dropoff_datetime  </th><th>passenger_count   </th><th>trip_distance     </th><th>pulocationid      </th><th>dolocationid      </th><th>ratecodeid        </th><th>fare_amount       </th><th>extra             </th><th>mta_tax           </th><th>improvement_surcharge  </th><th>Tip_amount        </th><th>Tolls_amount       </th><th>Total_amount      </th><th>tip_rate           </th><th>pickup_hour       </th><th>pickup_weekday  </th></tr>\n",
       "</thead>\n",
       "<tbody>\n",
       "<tr><td>type   </td><td>time                  </td><td>time                   </td><td>int               </td><td>real              </td><td>int               </td><td>int               </td><td>int               </td><td>real              </td><td>real              </td><td>real              </td><td>real                   </td><td>real              </td><td>real               </td><td>real              </td><td>real               </td><td>int               </td><td>enum            </td></tr>\n",
       "<tr><td>mins   </td><td>1230809501000.0       </td><td>1230811121000.0        </td><td>0.0               </td><td>1.0               </td><td>1.0               </td><td>1.0               </td><td>1.0               </td><td>0.33              </td><td>-10.6             </td><td>0.0               </td><td>0.0                    </td><td>0.0               </td><td>0.0                </td><td>0.33              </td><td>0.0                </td><td>0.0               </td><td>                </td></tr>\n",
       "<tr><td>mean   </td><td>1498508399688.337     </td><td>1498509575197.6294     </td><td>1.6091090757590576</td><td>3.8096985206270504</td><td>161.80084323567365</td><td>159.14128732612633</td><td>1.0456057722800087</td><td>15.671919784081028</td><td>0.370041069798156 </td><td>0.4978416683399289</td><td>0.29999104126167836    </td><td>3.1381111168805567</td><td>0.49643400095247914</td><td>20.480890794985633</td><td>0.15209084854915264</td><td>13.750892252451921</td><td>                </td></tr>\n",
       "<tr><td>maxs   </td><td>1512061372000.0       </td><td>1512146986000.0        </td><td>192.0             </td><td>183.7             </td><td>265.0             </td><td>265.0             </td><td>99.0              </td><td>465.5             </td><td>10.0              </td><td>11.4              </td><td>0.3                    </td><td>110.0             </td><td>95.76              </td><td>552.57            </td><td>0.49358341559723595</td><td>23.0              </td><td>                </td></tr>\n",
       "<tr><td>sigma  </td><td>9238355312.782312     </td><td>9238409669.085747      </td><td>1.2616635046544722</td><td>4.1146427999242965</td><td>65.59491392448841 </td><td>71.37036450617535 </td><td>0.2849347571494506</td><td>11.965825624516713</td><td>0.4875973754721276</td><td>0.0333168296742776</td><td>0.0016393723912689214  </td><td>2.746178963080608 </td><td>1.7949487333486154 </td><td>15.563014992495331</td><td>0.05009760293882924</td><td>6.485928844692992 </td><td>                </td></tr>\n",
       "<tr><td>zeros  </td><td>0                     </td><td>0                      </td><td>5711              </td><td>0                 </td><td>0                 </td><td>0                 </td><td>0                 </td><td>0                 </td><td>2144685           </td><td>19474             </td><td>134                    </td><td>177766            </td><td>4126412            </td><td>0                 </td><td>177766             </td><td>167070            </td><td>                </td></tr>\n",
       "<tr><td>missing</td><td>0                     </td><td>0                      </td><td>0                 </td><td>0                 </td><td>0                 </td><td>0                 </td><td>0                 </td><td>0                 </td><td>0                 </td><td>0                 </td><td>0                      </td><td>0                 </td><td>0                  </td><td>0                 </td><td>0                  </td><td>0                 </td><td>0               </td></tr>\n",
       "<tr><td>0      </td><td>2017-11-25 10:50:58   </td><td>2017-11-25 11:06:01    </td><td>1.0               </td><td>3.8               </td><td>68.0              </td><td>209.0             </td><td>1.0               </td><td>14.5              </td><td>0.0               </td><td>0.5               </td><td>0.3                    </td><td>3.05              </td><td>0.0                </td><td>18.35             </td><td>0.1662125340599455 </td><td>10.0              </td><td>Sat             </td></tr>\n",
       "<tr><td>1      </td><td>2017-11-25 10:37:41   </td><td>2017-11-25 10:48:01    </td><td>1.0               </td><td>1.28              </td><td>162.0             </td><td>163.0             </td><td>1.0               </td><td>8.5               </td><td>0.0               </td><td>0.5               </td><td>0.3                    </td><td>1.86              </td><td>0.0                </td><td>11.16             </td><td>0.16666666666666669</td><td>10.0              </td><td>Sat             </td></tr>\n",
       "<tr><td>2      </td><td>2017-11-25 10:56:28   </td><td>2017-11-25 11:04:18    </td><td>1.0               </td><td>1.41              </td><td>163.0             </td><td>43.0              </td><td>1.0               </td><td>7.5               </td><td>0.0               </td><td>0.5               </td><td>0.3                    </td><td>1.0               </td><td>0.0                </td><td>9.3               </td><td>0.1075268817204301 </td><td>10.0              </td><td>Sat             </td></tr>\n",
       "<tr><td>3      </td><td>2017-11-25 10:21:15   </td><td>2017-11-25 10:27:46    </td><td>1.0               </td><td>1.34              </td><td>42.0              </td><td>75.0              </td><td>1.0               </td><td>7.0               </td><td>0.0               </td><td>0.5               </td><td>0.3                    </td><td>2.34              </td><td>0.0                </td><td>10.14             </td><td>0.23076923076923075</td><td>10.0              </td><td>Sat             </td></tr>\n",
       "<tr><td>4      </td><td>2017-11-25 10:39:13   </td><td>2017-11-25 10:58:32    </td><td>1.0               </td><td>4.09              </td><td>142.0             </td><td>79.0              </td><td>1.0               </td><td>16.5              </td><td>0.0               </td><td>0.5               </td><td>0.3                    </td><td>3.0               </td><td>0.0                </td><td>20.3              </td><td>0.14778325123152708</td><td>10.0              </td><td>Sat             </td></tr>\n",
       "<tr><td>5      </td><td>2017-11-25 10:52:23   </td><td>2017-11-25 11:16:11    </td><td>1.0               </td><td>10.7              </td><td>138.0             </td><td>164.0             </td><td>1.0               </td><td>32.0              </td><td>0.0               </td><td>0.5               </td><td>0.3                    </td><td>7.71              </td><td>5.76               </td><td>46.27             </td><td>0.1666306462070456 </td><td>10.0              </td><td>Sat             </td></tr>\n",
       "<tr><td>6      </td><td>2017-11-25 10:25:39   </td><td>2017-11-25 10:32:00    </td><td>1.0               </td><td>1.2               </td><td>237.0             </td><td>142.0             </td><td>1.0               </td><td>6.5               </td><td>0.0               </td><td>0.5               </td><td>0.3                    </td><td>1.45              </td><td>0.0                </td><td>8.75              </td><td>0.1657142857142857 </td><td>10.0              </td><td>Sat             </td></tr>\n",
       "<tr><td>7      </td><td>2017-11-25 10:29:58   </td><td>2017-11-25 10:39:30    </td><td>1.0               </td><td>1.96              </td><td>246.0             </td><td>161.0             </td><td>1.0               </td><td>9.0               </td><td>0.0               </td><td>0.5               </td><td>0.3                    </td><td>1.8               </td><td>0.0                </td><td>11.6              </td><td>0.15517241379310345</td><td>10.0              </td><td>Sat             </td></tr>\n",
       "<tr><td>8      </td><td>2017-11-25 10:55:55   </td><td>2017-11-25 11:09:17    </td><td>1.0               </td><td>3.41              </td><td>170.0             </td><td>231.0             </td><td>1.0               </td><td>12.5              </td><td>0.0               </td><td>0.5               </td><td>0.3                    </td><td>2.66              </td><td>0.0                </td><td>15.96             </td><td>0.16666666666666666</td><td>10.0              </td><td>Sat             </td></tr>\n",
       "<tr><td>9      </td><td>2017-11-25 10:32:13   </td><td>2017-11-25 10:56:50    </td><td>1.0               </td><td>5.3               </td><td>162.0             </td><td>97.0              </td><td>1.0               </td><td>21.0              </td><td>0.0               </td><td>0.5               </td><td>0.3                    </td><td>4.0               </td><td>0.0                </td><td>25.8              </td><td>0.15503875968992248</td><td>10.0              </td><td>Sat             </td></tr>\n",
       "</tbody>\n",
       "</table>"
      ],
      "text/plain": [
       "<table>\n",
       "<thead>\n",
       "<tr><th>       </th><th>tpep_pickup_datetime  </th><th>tpep_dropoff_datetime  </th><th>passenger_count   </th><th>trip_distance     </th><th>pulocationid      </th><th>dolocationid      </th><th>ratecodeid        </th><th>fare_amount       </th><th>extra             </th><th>mta_tax           </th><th>improvement_surcharge  </th><th>Tip_amount        </th><th>Tolls_amount       </th><th>Total_amount      </th><th>tip_rate           </th><th>pickup_hour       </th><th>pickup_weekday  </th></tr>\n",
       "</thead>\n",
       "<tbody>\n",
       "<tr><td>type   </td><td>time                  </td><td>time                   </td><td>int               </td><td>real              </td><td>int               </td><td>int               </td><td>int               </td><td>real              </td><td>real              </td><td>real              </td><td>real                   </td><td>real              </td><td>real               </td><td>real              </td><td>real               </td><td>int               </td><td>enum            </td></tr>\n",
       "<tr><td>mins   </td><td>1230809501000.0       </td><td>1230811121000.0        </td><td>0.0               </td><td>1.0               </td><td>1.0               </td><td>1.0               </td><td>1.0               </td><td>0.33              </td><td>-10.6             </td><td>0.0               </td><td>0.0                    </td><td>0.0               </td><td>0.0                </td><td>0.33              </td><td>0.0                </td><td>0.0               </td><td>                </td></tr>\n",
       "<tr><td>mean   </td><td>1498508399688.337     </td><td>1498509575197.6294     </td><td>1.6091090757590576</td><td>3.8096985206270504</td><td>161.80084323567365</td><td>159.14128732612633</td><td>1.0456057722800087</td><td>15.671919784081028</td><td>0.370041069798156 </td><td>0.4978416683399289</td><td>0.29999104126167836    </td><td>3.1381111168805567</td><td>0.49643400095247914</td><td>20.480890794985633</td><td>0.15209084854915264</td><td>13.750892252451921</td><td>                </td></tr>\n",
       "<tr><td>maxs   </td><td>1512061372000.0       </td><td>1512146986000.0        </td><td>192.0             </td><td>183.7             </td><td>265.0             </td><td>265.0             </td><td>99.0              </td><td>465.5             </td><td>10.0              </td><td>11.4              </td><td>0.3                    </td><td>110.0             </td><td>95.76              </td><td>552.57            </td><td>0.49358341559723595</td><td>23.0              </td><td>                </td></tr>\n",
       "<tr><td>sigma  </td><td>9238355312.782312     </td><td>9238409669.085747      </td><td>1.2616635046544722</td><td>4.1146427999242965</td><td>65.59491392448841 </td><td>71.37036450617535 </td><td>0.2849347571494506</td><td>11.965825624516713</td><td>0.4875973754721276</td><td>0.0333168296742776</td><td>0.0016393723912689214  </td><td>2.746178963080608 </td><td>1.7949487333486154 </td><td>15.563014992495331</td><td>0.05009760293882924</td><td>6.485928844692992 </td><td>                </td></tr>\n",
       "<tr><td>zeros  </td><td>0                     </td><td>0                      </td><td>5711              </td><td>0                 </td><td>0                 </td><td>0                 </td><td>0                 </td><td>0                 </td><td>2144685           </td><td>19474             </td><td>134                    </td><td>177766            </td><td>4126412            </td><td>0                 </td><td>177766             </td><td>167070            </td><td>                </td></tr>\n",
       "<tr><td>missing</td><td>0                     </td><td>0                      </td><td>0                 </td><td>0                 </td><td>0                 </td><td>0                 </td><td>0                 </td><td>0                 </td><td>0                 </td><td>0                 </td><td>0                      </td><td>0                 </td><td>0                  </td><td>0                 </td><td>0                  </td><td>0                 </td><td>0               </td></tr>\n",
       "<tr><td>0      </td><td>2017-11-25 10:50:58   </td><td>2017-11-25 11:06:01    </td><td>1.0               </td><td>3.8               </td><td>68.0              </td><td>209.0             </td><td>1.0               </td><td>14.5              </td><td>0.0               </td><td>0.5               </td><td>0.3                    </td><td>3.05              </td><td>0.0                </td><td>18.35             </td><td>0.1662125340599455 </td><td>10.0              </td><td>Sat             </td></tr>\n",
       "<tr><td>1      </td><td>2017-11-25 10:37:41   </td><td>2017-11-25 10:48:01    </td><td>1.0               </td><td>1.28              </td><td>162.0             </td><td>163.0             </td><td>1.0               </td><td>8.5               </td><td>0.0               </td><td>0.5               </td><td>0.3                    </td><td>1.86              </td><td>0.0                </td><td>11.16             </td><td>0.16666666666666669</td><td>10.0              </td><td>Sat             </td></tr>\n",
       "<tr><td>2      </td><td>2017-11-25 10:56:28   </td><td>2017-11-25 11:04:18    </td><td>1.0               </td><td>1.41              </td><td>163.0             </td><td>43.0              </td><td>1.0               </td><td>7.5               </td><td>0.0               </td><td>0.5               </td><td>0.3                    </td><td>1.0               </td><td>0.0                </td><td>9.3               </td><td>0.1075268817204301 </td><td>10.0              </td><td>Sat             </td></tr>\n",
       "<tr><td>3      </td><td>2017-11-25 10:21:15   </td><td>2017-11-25 10:27:46    </td><td>1.0               </td><td>1.34              </td><td>42.0              </td><td>75.0              </td><td>1.0               </td><td>7.0               </td><td>0.0               </td><td>0.5               </td><td>0.3                    </td><td>2.34              </td><td>0.0                </td><td>10.14             </td><td>0.23076923076923075</td><td>10.0              </td><td>Sat             </td></tr>\n",
       "<tr><td>4      </td><td>2017-11-25 10:39:13   </td><td>2017-11-25 10:58:32    </td><td>1.0               </td><td>4.09              </td><td>142.0             </td><td>79.0              </td><td>1.0               </td><td>16.5              </td><td>0.0               </td><td>0.5               </td><td>0.3                    </td><td>3.0               </td><td>0.0                </td><td>20.3              </td><td>0.14778325123152708</td><td>10.0              </td><td>Sat             </td></tr>\n",
       "<tr><td>5      </td><td>2017-11-25 10:52:23   </td><td>2017-11-25 11:16:11    </td><td>1.0               </td><td>10.7              </td><td>138.0             </td><td>164.0             </td><td>1.0               </td><td>32.0              </td><td>0.0               </td><td>0.5               </td><td>0.3                    </td><td>7.71              </td><td>5.76               </td><td>46.27             </td><td>0.1666306462070456 </td><td>10.0              </td><td>Sat             </td></tr>\n",
       "<tr><td>6      </td><td>2017-11-25 10:25:39   </td><td>2017-11-25 10:32:00    </td><td>1.0               </td><td>1.2               </td><td>237.0             </td><td>142.0             </td><td>1.0               </td><td>6.5               </td><td>0.0               </td><td>0.5               </td><td>0.3                    </td><td>1.45              </td><td>0.0                </td><td>8.75              </td><td>0.1657142857142857 </td><td>10.0              </td><td>Sat             </td></tr>\n",
       "<tr><td>7      </td><td>2017-11-25 10:29:58   </td><td>2017-11-25 10:39:30    </td><td>1.0               </td><td>1.96              </td><td>246.0             </td><td>161.0             </td><td>1.0               </td><td>9.0               </td><td>0.0               </td><td>0.5               </td><td>0.3                    </td><td>1.8               </td><td>0.0                </td><td>11.6              </td><td>0.15517241379310345</td><td>10.0              </td><td>Sat             </td></tr>\n",
       "<tr><td>8      </td><td>2017-11-25 10:55:55   </td><td>2017-11-25 11:09:17    </td><td>1.0               </td><td>3.41              </td><td>170.0             </td><td>231.0             </td><td>1.0               </td><td>12.5              </td><td>0.0               </td><td>0.5               </td><td>0.3                    </td><td>2.66              </td><td>0.0                </td><td>15.96             </td><td>0.16666666666666666</td><td>10.0              </td><td>Sat             </td></tr>\n",
       "<tr><td>9      </td><td>2017-11-25 10:32:13   </td><td>2017-11-25 10:56:50    </td><td>1.0               </td><td>5.3               </td><td>162.0             </td><td>97.0              </td><td>1.0               </td><td>21.0              </td><td>0.0               </td><td>0.5               </td><td>0.3                    </td><td>4.0               </td><td>0.0                </td><td>25.8              </td><td>0.15503875968992248</td><td>10.0              </td><td>Sat             </td></tr>\n",
       "</tbody>\n",
       "</table>"
      ]
     },
     "execution_count": 0,
     "metadata": {},
     "output_type": "execute_result"
    }
   ],
   "source": [
    "h2o_nyc_data.describe()"
   ]
  },
  {
   "cell_type": "markdown",
   "metadata": {},
   "source": [
    "#### Inspeção das variáveis\n",
    "\n",
    "Acesse o H2O Flow pelo comando abaixo, visualize o H2OFrame 'nyc_data' e analise as distribuições das variáveis que compõe o dataset. Pelas distribuições, você identifica outros valores que podem interferir na qualidade do modelo? Pense em valores extremos e valores pouco freqüentes. E na nossa variável dependente, 'tip_rate', você considera que valores fora das faixas comuns são facilmente capturáveis por um modelo?"
   ]
  },
  {
   "cell_type": "code",
   "execution_count": null,
   "metadata": {},
   "outputs": [],
   "source": [
    "h2o.flow()"
   ]
  },
  {
   "cell_type": "markdown",
   "metadata": {},
   "source": [
    "#### Treino e avaliação de modelos de regressão com H2O"
   ]
  },
  {
   "cell_type": "markdown",
   "metadata": {},
   "source": [
    "**Divisão em Treino, Teste e Validação.**\n",
    "\n",
    "Se o treino for muito lento, sugiro a redução do dataset de Treino para .6 e Validação para 0.15. Qual deve ser o tamanho do dataset de Teste?"
   ]
  },
  {
   "cell_type": "code",
   "execution_count": 70,
   "metadata": {},
   "outputs": [],
   "source": [
    "train, test, valid = h2o_nyc_data.split_frame(ratios=[.7, .15], seed=42)"
   ]
  },
  {
   "cell_type": "markdown",
   "metadata": {},
   "source": [
    "#### Regressão Linear com GLM\n",
    "\n",
    "Detalhes de algoritmo e parâmetros discutidos em aula: [link para documentação](http://docs.h2o.ai/h2o/latest-stable/h2o-docs/data-science/glm.html)"
   ]
  },
  {
   "cell_type": "code",
   "execution_count": 71,
   "metadata": {},
   "outputs": [
    {
     "name": "stdout",
     "output_type": "stream",
     "text": [
      "glm Model Build progress: |"
     ]
    },
    {
     "name": "stdout",
     "output_type": "stream",
     "text": [
      "█"
     ]
    },
    {
     "name": "stdout",
     "output_type": "stream",
     "text": [
      "█"
     ]
    },
    {
     "name": "stdout",
     "output_type": "stream",
     "text": [
      "█"
     ]
    },
    {
     "name": "stdout",
     "output_type": "stream",
     "text": [
      "█"
     ]
    },
    {
     "name": "stdout",
     "output_type": "stream",
     "text": [
      "█"
     ]
    },
    {
     "name": "stdout",
     "output_type": "stream",
     "text": [
      "█"
     ]
    },
    {
     "name": "stdout",
     "output_type": "stream",
     "text": [
      "█"
     ]
    },
    {
     "name": "stdout",
     "output_type": "stream",
     "text": [
      "█"
     ]
    },
    {
     "name": "stdout",
     "output_type": "stream",
     "text": [
      "█"
     ]
    },
    {
     "name": "stdout",
     "output_type": "stream",
     "text": [
      "█"
     ]
    },
    {
     "name": "stdout",
     "output_type": "stream",
     "text": [
      "█"
     ]
    },
    {
     "name": "stdout",
     "output_type": "stream",
     "text": [
      "█"
     ]
    },
    {
     "name": "stdout",
     "output_type": "stream",
     "text": [
      "█"
     ]
    },
    {
     "name": "stdout",
     "output_type": "stream",
     "text": [
      "█"
     ]
    },
    {
     "name": "stdout",
     "output_type": "stream",
     "text": [
      "█"
     ]
    },
    {
     "name": "stdout",
     "output_type": "stream",
     "text": [
      "█"
     ]
    },
    {
     "name": "stdout",
     "output_type": "stream",
     "text": [
      "█"
     ]
    },
    {
     "name": "stdout",
     "output_type": "stream",
     "text": [
      "██████████████████████████████| 100%"
     ]
    },
    {
     "name": "stdout",
     "output_type": "stream",
     "text": [
      "\n"
     ]
    }
   ],
   "source": [
    "from h2o.estimators.glm import *\n",
    "\n",
    "taxi_regression = H2OGeneralizedLinearEstimator(family=\"gaussian\", model_id=\"taxi_glm_regression\",\n",
    "                                                alpha=[0.01, 0.05, 0.5, 0.95], lambda_search=True, nlambdas=75, \n",
    "                                                remove_collinear_columns=True)\n",
    "\n",
    "taxi_regression.train(y=\"tip_rate\", \n",
    "                      x=['passenger_count', 'trip_distance', 'fare_amount', 'extra', 'mta_tax', \n",
    "                         'Tolls_amount', 'pickup_hour', 'pickup_weekday'], \n",
    "                      training_frame=train,\n",
    "                      validation_frame=valid)\n"
   ]
  },
  {
   "cell_type": "code",
   "execution_count": 52,
   "metadata": {},
   "outputs": [
    {
     "name": "stdout",
     "output_type": "stream",
     "text": [
      "Model Details\n",
      "=============\n",
      "H2OGeneralizedLinearEstimator :  Generalized Linear Modeling\n",
      "Model Key:  GLM_model_python_1531074008389_2\n",
      "\n",
      "\n",
      "ModelMetricsRegressionGLM: glm\n",
      "** Reported on train data. **\n",
      "\n",
      "MSE: 0.002491489452113867\n",
      "RMSE: 0.0499148219681676\n",
      "MAE: 0.035698968857003584\n",
      "RMSLE: 0.044530635335644456\n",
      "R^2: 0.006929162609987216\n",
      "Mean Residual Deviance: 0.002491489452113867\n",
      "Null degrees of freedom: 3141205\n",
      "Residual degrees of freedom: 3141192\n",
      "Null deviance: 7880.889581261709\n",
      "Residual deviance: 7826.281615916792\n",
      "AIC: -9916749.512201494\n",
      "\n",
      "ModelMetricsRegressionGLM: glm\n",
      "** Reported on validation data. **\n",
      "\n",
      "MSE: 0.002490594456154316\n",
      "RMSE: 0.04990585593048491\n",
      "MAE: 0.03567580147099961\n"
     ]
    }
   ],
   "source": [
    "taxi_regression"
   ]
  },
  {
   "cell_type": "code",
   "execution_count": 53,
   "metadata": {},
   "outputs": [],
   "source": [
    ""
   ]
  },
  {
   "cell_type": "code",
   "execution_count": 54,
   "metadata": {},
   "outputs": [
    {
     "name": "stdout",
     "output_type": "stream",
     "text": [
      "glm prediction progress: |████████████████████████████████████████████████| 100%\n"
     ]
    },
    {
     "data": {
      "text/html": [
       "<table>\n",
       "<thead>\n",
       "<tr><th style=\"text-align: right;\">  predict</th></tr>\n",
       "</thead>\n",
       "<tbody>\n",
       "<tr><td style=\"text-align: right;\"> 0.153072</td></tr>\n",
       "<tr><td style=\"text-align: right;\"> 0.151512</td></tr>\n",
       "<tr><td style=\"text-align: right;\"> 0.147303</td></tr>\n",
       "<tr><td style=\"text-align: right;\"> 0.152401</td></tr>\n",
       "<tr><td style=\"text-align: right;\"> 0.150631</td></tr>\n",
       "<tr><td style=\"text-align: right;\"> 0.147521</td></tr>\n",
       "<tr><td style=\"text-align: right;\"> 0.152404</td></tr>\n",
       "<tr><td style=\"text-align: right;\"> 0.153974</td></tr>\n",
       "<tr><td style=\"text-align: right;\"> 0.151436</td></tr>\n",
       "<tr><td style=\"text-align: right;\"> 0.14893 </td></tr>\n",
       "</tbody>\n",
       "</table>"
      ],
      "text/plain": [
       "<table>\n",
       "<thead>\n",
       "<tr><th style=\"text-align: right;\">  predict</th></tr>\n",
       "</thead>\n",
       "<tbody>\n",
       "<tr><td style=\"text-align: right;\"> 0.153072</td></tr>\n",
       "<tr><td style=\"text-align: right;\"> 0.151512</td></tr>\n",
       "<tr><td style=\"text-align: right;\"> 0.147303</td></tr>\n",
       "<tr><td style=\"text-align: right;\"> 0.152401</td></tr>\n",
       "<tr><td style=\"text-align: right;\"> 0.150631</td></tr>\n",
       "<tr><td style=\"text-align: right;\"> 0.147521</td></tr>\n",
       "<tr><td style=\"text-align: right;\"> 0.152404</td></tr>\n",
       "<tr><td style=\"text-align: right;\"> 0.153974</td></tr>\n",
       "<tr><td style=\"text-align: right;\"> 0.151436</td></tr>\n",
       "<tr><td style=\"text-align: right;\"> 0.14893 </td></tr>\n",
       "</tbody>\n",
       "</table>"
      ]
     },
     "execution_count": 0,
     "metadata": {},
     "output_type": "execute_result"
    },
    {
     "data": {
      "text/plain": []
     },
     "execution_count": 54,
     "metadata": {},
     "output_type": "execute_result"
    }
   ],
   "source": [
    "taxi_regression.predict(test_data=test)"
   ]
  },
  {
   "cell_type": "code",
   "execution_count": 56,
   "metadata": {},
   "outputs": [],
   "source": [
    "from h2o.estimators.gbm import *\n",
    "\n",
    "taxi_gbm_regression = H2OGradientBoostingEstimator(distribution=\"gaussian\", model_id=\"taxi_gbm_regression\",\n",
    "                                                   ntrees=200, stopping_metric=\"rmse\", stopping_rounds=7, stopping_tolerance=0.0005,\n",
    "                                                   learn_rate=0.2, learn_rate_annealing=0.95,\n",
    "                                                   max_depth=5, min_rows=2, col_sample_rate=0.95, sample_rate=0.7)  \n"
   ]
  },
  {
   "cell_type": "code",
   "execution_count": 57,
   "metadata": {},
   "outputs": [
    {
     "name": "stdout",
     "output_type": "stream",
     "text": [
      "gbm Model Build progress: |███████████████████████████████████████████████| 100%\n"
     ]
    }
   ],
   "source": [
    "taxi_gbm_regression.train(y=\"tip_rate\", \n",
    "                          x=['passenger_count', 'trip_distance', 'fare_amount', 'extra', 'mta_tax', \n",
    "                             'Tolls_amount', 'pickup_hour', 'pickup_weekday'], \n",
    "                          training_frame=train,\n",
    "                          validation_frame=valid)\n"
   ]
  },
  {
   "cell_type": "code",
   "execution_count": 60,
   "metadata": {},
   "outputs": [
    {
     "name": "stdout",
     "output_type": "stream",
     "text": [
      "Model Summary: \n"
     ]
    },
    {
     "data": {
      "text/html": [
       "<div style=\"overflow:auto\"><table style=\"width:50%\"><tr><td><b></b></td>\n",
       "<td><b>number_of_trees</b></td>\n",
       "<td><b>number_of_internal_trees</b></td>\n",
       "<td><b>model_size_in_bytes</b></td>\n",
       "<td><b>min_depth</b></td>\n",
       "<td><b>max_depth</b></td>\n",
       "<td><b>mean_depth</b></td>\n",
       "<td><b>min_leaves</b></td>\n",
       "<td><b>max_leaves</b></td>\n",
       "<td><b>mean_leaves</b></td></tr>\n",
       "<tr><td></td>\n",
       "<td>200.0</td>\n",
       "<td>200.0</td>\n",
       "<td>27914.0</td>\n",
       "<td>0.0</td>\n",
       "<td>5.0</td>\n",
       "<td>0.8</td>\n",
       "<td>1.0</td>\n",
       "<td>32.0</td>\n",
       "<td>5.83</td></tr></table></div>"
      ],
      "text/plain": [
       "<div style=\"overflow:auto\"><table style=\"width:50%\"><tr><td><b></b></td>\n",
       "<td><b>number_of_trees</b></td>\n",
       "<td><b>number_of_internal_trees</b></td>\n",
       "<td><b>model_size_in_bytes</b></td>\n",
       "<td><b>min_depth</b></td>\n",
       "<td><b>max_depth</b></td>\n",
       "<td><b>mean_depth</b></td>\n",
       "<td><b>min_leaves</b></td>\n",
       "<td><b>max_leaves</b></td>\n",
       "<td><b>mean_leaves</b></td></tr>\n",
       "<tr><td></td>\n",
       "<td>200.0</td>\n",
       "<td>200.0</td>\n",
       "<td>27914.0</td>\n",
       "<td>0.0</td>\n",
       "<td>5.0</td>\n",
       "<td>0.8</td>\n",
       "<td>1.0</td>\n",
       "<td>32.0</td>\n",
       "<td>5.83</td></tr></table></div>"
      ]
     },
     "execution_count": 0,
     "metadata": {},
     "output_type": "execute_result"
    },
    {
     "name": "stdout",
     "output_type": "stream",
     "text": [
      "Scoring History: \n"
     ]
    },
    {
     "data": {
      "text/html": [
       "<div style=\"overflow:auto\"><table style=\"width:50%\"><tr><td><b></b></td>\n",
       "<td><b>timestamp</b></td>\n",
       "<td><b>duration</b></td>\n",
       "<td><b>number_of_trees</b></td>\n",
       "<td><b>training_rmse</b></td>\n",
       "<td><b>training_mae</b></td>\n",
       "<td><b>training_deviance</b></td>\n",
       "<td><b>validation_rmse</b></td>\n",
       "<td><b>validation_mae</b></td>\n",
       "<td><b>validation_deviance</b></td></tr>\n",
       "<tr><td></td>\n",
       "<td>2018-07-08 15:46:48</td>\n",
       "<td> 0.011 sec</td>\n",
       "<td>0.0</td>\n",
       "<td>0.0500887</td>\n",
       "<td>0.0358627</td>\n",
       "<td>0.0025089</td>\n",
       "<td>0.0500633</td>\n",
       "<td>0.0358321</td>\n",
       "<td>0.0025063</td></tr>\n",
       "<tr><td></td>\n",
       "<td>2018-07-08 15:47:05</td>\n",
       "<td>17.509 sec</td>\n",
       "<td>13.0</td>\n",
       "<td>0.0498058</td>\n",
       "<td>0.0356100</td>\n",
       "<td>0.0024806</td>\n",
       "<td>0.0497987</td>\n",
       "<td>0.0355891</td>\n",
       "<td>0.0024799</td></tr>\n",
       "<tr><td></td>\n",
       "<td>2018-07-08 15:47:20</td>\n",
       "<td>32.137 sec</td>\n",
       "<td>26.0</td>\n",
       "<td>0.0497859</td>\n",
       "<td>0.0355753</td>\n",
       "<td>0.0024786</td>\n",
       "<td>0.0497830</td>\n",
       "<td>0.0355564</td>\n",
       "<td>0.0024783</td></tr>\n",
       "<tr><td></td>\n",
       "<td>2018-07-08 15:47:36</td>\n",
       "<td>48.630 sec</td>\n",
       "<td>62.0</td>\n",
       "<td>0.0497829</td>\n",
       "<td>0.0355700</td>\n",
       "<td>0.0024783</td>\n",
       "<td>0.0497810</td>\n",
       "<td>0.0355516</td>\n",
       "<td>0.0024781</td></tr>\n",
       "<tr><td></td>\n",
       "<td>2018-07-08 15:47:57</td>\n",
       "<td> 1 min  9.519 sec</td>\n",
       "<td>131.0</td>\n",
       "<td>0.0497829</td>\n",
       "<td>0.0355700</td>\n",
       "<td>0.0024783</td>\n",
       "<td>0.0497810</td>\n",
       "<td>0.0355516</td>\n",
       "<td>0.0024781</td></tr>\n",
       "<tr><td></td>\n",
       "<td>2018-07-08 15:48:18</td>\n",
       "<td> 1 min 30.357 sec</td>\n",
       "<td>200.0</td>\n",
       "<td>0.0497829</td>\n",
       "<td>0.0355700</td>\n",
       "<td>0.0024783</td>\n",
       "<td>0.0497810</td>\n",
       "<td>0.0355516</td>\n",
       "<td>0.0024781</td></tr></table></div>"
      ],
      "text/plain": [
       "<div style=\"overflow:auto\"><table style=\"width:50%\"><tr><td><b></b></td>\n",
       "<td><b>timestamp</b></td>\n",
       "<td><b>duration</b></td>\n",
       "<td><b>number_of_trees</b></td>\n",
       "<td><b>training_rmse</b></td>\n",
       "<td><b>training_mae</b></td>\n",
       "<td><b>training_deviance</b></td>\n",
       "<td><b>validation_rmse</b></td>\n",
       "<td><b>validation_mae</b></td>\n",
       "<td><b>validation_deviance</b></td></tr>\n",
       "<tr><td></td>\n",
       "<td>2018-07-08 15:46:48</td>\n",
       "<td> 0.011 sec</td>\n",
       "<td>0.0</td>\n",
       "<td>0.0500887</td>\n",
       "<td>0.0358627</td>\n",
       "<td>0.0025089</td>\n",
       "<td>0.0500633</td>\n",
       "<td>0.0358321</td>\n",
       "<td>0.0025063</td></tr>\n",
       "<tr><td></td>\n",
       "<td>2018-07-08 15:47:05</td>\n",
       "<td>17.509 sec</td>\n",
       "<td>13.0</td>\n",
       "<td>0.0498058</td>\n",
       "<td>0.0356100</td>\n",
       "<td>0.0024806</td>\n",
       "<td>0.0497987</td>\n",
       "<td>0.0355891</td>\n",
       "<td>0.0024799</td></tr>\n",
       "<tr><td></td>\n",
       "<td>2018-07-08 15:47:20</td>\n",
       "<td>32.137 sec</td>\n",
       "<td>26.0</td>\n",
       "<td>0.0497859</td>\n",
       "<td>0.0355753</td>\n",
       "<td>0.0024786</td>\n",
       "<td>0.0497830</td>\n",
       "<td>0.0355564</td>\n",
       "<td>0.0024783</td></tr>\n",
       "<tr><td></td>\n",
       "<td>2018-07-08 15:47:36</td>\n",
       "<td>48.630 sec</td>\n",
       "<td>62.0</td>\n",
       "<td>0.0497829</td>\n",
       "<td>0.0355700</td>\n",
       "<td>0.0024783</td>\n",
       "<td>0.0497810</td>\n",
       "<td>0.0355516</td>\n",
       "<td>0.0024781</td></tr>\n",
       "<tr><td></td>\n",
       "<td>2018-07-08 15:47:57</td>\n",
       "<td> 1 min  9.519 sec</td>\n",
       "<td>131.0</td>\n",
       "<td>0.0497829</td>\n",
       "<td>0.0355700</td>\n",
       "<td>0.0024783</td>\n",
       "<td>0.0497810</td>\n",
       "<td>0.0355516</td>\n",
       "<td>0.0024781</td></tr>\n",
       "<tr><td></td>\n",
       "<td>2018-07-08 15:48:18</td>\n",
       "<td> 1 min 30.357 sec</td>\n",
       "<td>200.0</td>\n",
       "<td>0.0497829</td>\n",
       "<td>0.0355700</td>\n",
       "<td>0.0024783</td>\n",
       "<td>0.0497810</td>\n",
       "<td>0.0355516</td>\n",
       "<td>0.0024781</td></tr></table></div>"
      ]
     },
     "execution_count": 0,
     "metadata": {},
     "output_type": "execute_result"
    },
    {
     "name": "stdout",
     "output_type": "stream",
     "text": [
      "\n",
      "ModelMetricsRegression: gbm\n",
      "** Reported on train data. **\n",
      "\n",
      "MSE: 0.0024783366117992174\n",
      "RMSE: 0.0497828947711884\n",
      "MAE: 0.03556997501721137\n",
      "RMSLE: 0.044414568140339145\n",
      "Mean Residual Deviance: 0.0024783366117992174\n",
      "\n",
      "ModelMetricsRegression: gbm\n",
      "** Reported on validation data. **\n"
     ]
    }
   ],
   "source": [
    "taxi_gbm_regression._model_json['output']"
   ]
  },
  {
   "cell_type": "code",
   "execution_count": 67,
   "metadata": {},
   "outputs": [
    {
     "name": "stdout",
     "output_type": "stream",
     "text": [
      "gbm Grid Build progress: |██████████████████████████████████████████████"
     ]
    }
   ],
   "source": [
    "from h2o.grid.grid_search import H2OGridSearch\n",
    "\n",
    "gbm_params = {'learn_rate': [0.005, 0.01, 0.05, 0.1],\n",
    "              'max_depth': [3, 5, 8],\n",
    "              'sample_rate': [0.7, 0.85, 1.0],\n",
    "              'min_rows': [3, 5, 8, 13, 21],\n",
    "              'col_sample_rate': [0.7, 0.8, 0.95, 1.0]}\n",
    "\n",
    "# COMBINAÇÕES ALEATÓRIAS DURANTE 25 MINUTOS ATÉ UM MÁXIMO DE 15 MODELOS\n",
    "gbm_strategy = {'strategy': \"RandomDiscrete\", 'max_models': 15, 'max_runtime_secs': 25 * 60}\n",
    "\n",
    "gbm_grid = H2OGridSearch(model=H2OGradientBoostingEstimator,\n",
    "                         grid_id='gbm_grid_taxi',\n",
    "                         hyper_params=gbm_params,\n",
    "                         search_criteria=gbm_strategy)\n",
    "\n",
    "gbm_grid.train(y=\"tip_rate\", \n",
    "               x=['passenger_count', 'trip_distance', 'fare_amount', 'extra', 'mta_tax', \n",
    "                  'Tolls_amount', 'pickup_hour', 'pickup_weekday'], \n",
    "               training_frame=train, validation_frame=valid,\n",
    "               distribution=\"gaussian\",  \n",
    "               ntrees=200, stopping_metric=\"rmse\", stopping_rounds=7, stopping_tolerance=0.0005, seed=42)\n"
   ]
  },
  {
   "cell_type": "code",
   "execution_count": 73,
   "metadata": {},
   "outputs": [
    {
     "name": "stdout",
     "output_type": "stream",
     "text": [
      "Hyper-Parameter Search Summary:"
     ]
    },
    {
     "name": "stdout",
     "output_type": "stream",
     "text": [
      " "
     ]
    },
    {
     "name": "stdout",
     "output_type": "stream",
     "text": [
      "ordered by increasing rmse"
     ]
    },
    {
     "name": "stdout",
     "output_type": "stream",
     "text": [
      "\n"
     ]
    },
    {
     "name": "stdout",
     "output_type": "stream",
     "text": [
      "\n"
     ]
    },
    {
     "data": {
      "text/html": [
       "<div style=\"overflow:auto\"><table style=\"width:50%\"><tr><td><b></b></td>\n",
       "<td><b>col_sample_rate</b></td>\n",
       "<td><b>learn_rate</b></td>\n",
       "<td><b>max_depth</b></td>\n",
       "<td><b>min_rows</b></td>\n",
       "<td><b>sample_rate</b></td>\n",
       "<td><b>model_ids</b></td>\n",
       "<td><b>rmse</b></td></tr>\n",
       "<tr><td></td>\n",
       "<td>0.8</td>\n",
       "<td>0.1</td>\n",
       "<td>8</td>\n",
       "<td>3.0</td>\n",
       "<td>1.0</td>\n",
       "<td>gbm_grid_taxi_model_11</td>\n",
       "<td>0.0497679</td></tr>\n",
       "<tr><td></td>\n",
       "<td>0.8</td>\n",
       "<td>0.1</td>\n",
       "<td>8</td>\n",
       "<td>3.0</td>\n",
       "<td>0.7</td>\n",
       "<td>gbm_grid_taxi_model_10</td>\n",
       "<td>0.0497682</td></tr>\n",
       "<tr><td></td>\n",
       "<td>1.0</td>\n",
       "<td>0.05</td>\n",
       "<td>5</td>\n",
       "<td>21.0</td>\n",
       "<td>1.0</td>\n",
       "<td>gbm_grid_taxi_model_13</td>\n",
       "<td>0.0497791</td></tr>\n",
       "<tr><td></td>\n",
       "<td>0.95</td>\n",
       "<td>0.1</td>\n",
       "<td>5</td>\n",
       "<td>5.0</td>\n",
       "<td>0.85</td>\n",
       "<td>gbm_grid_taxi_model_5</td>\n",
       "<td>0.0497800</td></tr>\n",
       "<tr><td></td>\n",
       "<td>0.8</td>\n",
       "<td>0.1</td>\n",
       "<td>5</td>\n",
       "<td>3.0</td>\n",
       "<td>1.0</td>\n",
       "<td>gbm_grid_taxi_model_4</td>\n",
       "<td>0.0497805</td></tr>\n",
       "<tr><td></td>\n",
       "<td>0.8</td>\n",
       "<td>0.05</td>\n",
       "<td>3</td>\n",
       "<td>13.0</td>\n",
       "<td>0.7</td>\n",
       "<td>gbm_grid_taxi_model_15</td>\n",
       "<td>0.0497939</td></tr>\n",
       "<tr><td></td>\n",
       "<td>0.7</td>\n",
       "<td>0.1</td>\n",
       "<td>3</td>\n",
       "<td>3.0</td>\n",
       "<td>1.0</td>\n",
       "<td>gbm_grid_taxi_model_9</td>\n",
       "<td>0.0497944</td></tr>\n",
       "<tr><td></td>\n",
       "<td>0.8</td>\n",
       "<td>0.1</td>\n",
       "<td>3</td>\n",
       "<td>21.0</td>\n",
       "<td>0.85</td>\n",
       "<td>gbm_grid_taxi_model_1</td>\n",
       "<td>0.0497945</td></tr>\n",
       "<tr><td></td>\n",
       "<td>0.8</td>\n",
       "<td>0.1</td>\n",
       "<td>3</td>\n",
       "<td>13.0</td>\n",
       "<td>1.0</td>\n",
       "<td>gbm_grid_taxi_model_2</td>\n",
       "<td>0.0497959</td></tr>\n",
       "<tr><td></td>\n",
       "<td>0.8</td>\n",
       "<td>0.1</td>\n",
       "<td>3</td>\n",
       "<td>21.0</td>\n",
       "<td>1.0</td>\n",
       "<td>gbm_grid_taxi_model_14</td>\n",
       "<td>0.0497961</td></tr>\n",
       "<tr><td></td>\n",
       "<td>0.8</td>\n",
       "<td>0.01</td>\n",
       "<td>8</td>\n",
       "<td>3.0</td>\n",
       "<td>0.85</td>\n",
       "<td>gbm_grid_taxi_model_0</td>\n",
       "<td>0.0498003</td></tr>\n",
       "<tr><td></td>\n",
       "<td>0.95</td>\n",
       "<td>0.01</td>\n",
       "<td>5</td>\n",
       "<td>13.0</td>\n",
       "<td>0.85</td>\n",
       "<td>gbm_grid_taxi_model_12</td>\n",
       "<td>0.0498011</td></tr>\n",
       "<tr><td></td>\n",
       "<td>1.0</td>\n",
       "<td>0.01</td>\n",
       "<td>8</td>\n",
       "<td>13.0</td>\n",
       "<td>0.7</td>\n",
       "<td>gbm_grid_taxi_model_3</td>\n",
       "<td>0.0498053</td></tr>\n",
       "<tr><td></td>\n",
       "<td>0.95</td>\n",
       "<td>0.005</td>\n",
       "<td>5</td>\n",
       "<td>21.0</td>\n",
       "<td>0.85</td>\n",
       "<td>gbm_grid_taxi_model_7</td>\n",
       "<td>0.0498518</td></tr>\n",
       "<tr><td></td>\n",
       "<td>0.95</td>\n",
       "<td>0.005</td>\n",
       "<td>8</td>\n",
       "<td>8.0</td>\n",
       "<td>0.85</td>\n",
       "<td>gbm_grid_taxi_model_8</td>\n",
       "<td>0.0498566</td></tr>\n",
       "<tr><td></td>\n",
       "<td>0.7</td>\n",
       "<td>0.005</td>\n",
       "<td>8</td>\n",
       "<td>3.0</td>\n",
       "<td>0.7</td>\n",
       "<td>gbm_grid_taxi_model_6</td>\n",
       "<td>0.0500165</td></tr>\n",
       "<tr><td></td>\n",
       "<td>0.7</td>\n",
       "<td>0.005</td>\n",
       "<td>3</td>\n",
       "<td>5.0</td>\n",
       "<td>0.7</td>\n",
       "<td>gbm_grid_taxi_model_16</td>\n",
       "<td>0.0500390</td></tr></table></div>"
      ],
      "text/plain": [
       "<div style=\"overflow:auto\"><table style=\"width:50%\"><tr><td><b></b></td>\n",
       "<td><b>col_sample_rate</b></td>\n",
       "<td><b>learn_rate</b></td>\n",
       "<td><b>max_depth</b></td>\n",
       "<td><b>min_rows</b></td>\n",
       "<td><b>sample_rate</b></td>\n",
       "<td><b>model_ids</b></td>\n",
       "<td><b>rmse</b></td></tr>\n",
       "<tr><td></td>\n",
       "<td>0.8</td>\n",
       "<td>0.1</td>\n",
       "<td>8</td>\n",
       "<td>3.0</td>\n",
       "<td>1.0</td>\n",
       "<td>gbm_grid_taxi_model_11</td>\n",
       "<td>0.0497679</td></tr>\n",
       "<tr><td></td>\n",
       "<td>0.8</td>\n",
       "<td>0.1</td>\n",
       "<td>8</td>\n",
       "<td>3.0</td>\n",
       "<td>0.7</td>\n",
       "<td>gbm_grid_taxi_model_10</td>\n",
       "<td>0.0497682</td></tr>\n",
       "<tr><td></td>\n",
       "<td>1.0</td>\n",
       "<td>0.05</td>\n",
       "<td>5</td>\n",
       "<td>21.0</td>\n",
       "<td>1.0</td>\n",
       "<td>gbm_grid_taxi_model_13</td>\n",
       "<td>0.0497791</td></tr>\n",
       "<tr><td></td>\n",
       "<td>0.95</td>\n",
       "<td>0.1</td>\n",
       "<td>5</td>\n",
       "<td>5.0</td>\n",
       "<td>0.85</td>\n",
       "<td>gbm_grid_taxi_model_5</td>\n",
       "<td>0.0497800</td></tr>\n",
       "<tr><td></td>\n",
       "<td>0.8</td>\n",
       "<td>0.1</td>\n",
       "<td>5</td>\n",
       "<td>3.0</td>\n",
       "<td>1.0</td>\n",
       "<td>gbm_grid_taxi_model_4</td>\n",
       "<td>0.0497805</td></tr>\n",
       "<tr><td></td>\n",
       "<td>0.8</td>\n",
       "<td>0.05</td>\n",
       "<td>3</td>\n",
       "<td>13.0</td>\n",
       "<td>0.7</td>\n",
       "<td>gbm_grid_taxi_model_15</td>\n",
       "<td>0.0497939</td></tr>\n",
       "<tr><td></td>\n",
       "<td>0.7</td>\n",
       "<td>0.1</td>\n",
       "<td>3</td>\n",
       "<td>3.0</td>\n",
       "<td>1.0</td>\n",
       "<td>gbm_grid_taxi_model_9</td>\n",
       "<td>0.0497944</td></tr>\n",
       "<tr><td></td>\n",
       "<td>0.8</td>\n",
       "<td>0.1</td>\n",
       "<td>3</td>\n",
       "<td>21.0</td>\n",
       "<td>0.85</td>\n",
       "<td>gbm_grid_taxi_model_1</td>\n",
       "<td>0.0497945</td></tr>\n",
       "<tr><td></td>\n",
       "<td>0.8</td>\n",
       "<td>0.1</td>\n",
       "<td>3</td>\n",
       "<td>13.0</td>\n",
       "<td>1.0</td>\n",
       "<td>gbm_grid_taxi_model_2</td>\n",
       "<td>0.0497959</td></tr>\n",
       "<tr><td></td>\n",
       "<td>0.8</td>\n",
       "<td>0.1</td>\n",
       "<td>3</td>\n",
       "<td>21.0</td>\n",
       "<td>1.0</td>\n",
       "<td>gbm_grid_taxi_model_14</td>\n",
       "<td>0.0497961</td></tr>\n",
       "<tr><td></td>\n",
       "<td>0.8</td>\n",
       "<td>0.01</td>\n",
       "<td>8</td>\n",
       "<td>3.0</td>\n",
       "<td>0.85</td>\n",
       "<td>gbm_grid_taxi_model_0</td>\n",
       "<td>0.0498003</td></tr>\n",
       "<tr><td></td>\n",
       "<td>0.95</td>\n",
       "<td>0.01</td>\n",
       "<td>5</td>\n",
       "<td>13.0</td>\n",
       "<td>0.85</td>\n",
       "<td>gbm_grid_taxi_model_12</td>\n",
       "<td>0.0498011</td></tr>\n",
       "<tr><td></td>\n",
       "<td>1.0</td>\n",
       "<td>0.01</td>\n",
       "<td>8</td>\n",
       "<td>13.0</td>\n",
       "<td>0.7</td>\n",
       "<td>gbm_grid_taxi_model_3</td>\n",
       "<td>0.0498053</td></tr>\n",
       "<tr><td></td>\n",
       "<td>0.95</td>\n",
       "<td>0.005</td>\n",
       "<td>5</td>\n",
       "<td>21.0</td>\n",
       "<td>0.85</td>\n",
       "<td>gbm_grid_taxi_model_7</td>\n",
       "<td>0.0498518</td></tr>\n",
       "<tr><td></td>\n",
       "<td>0.95</td>\n",
       "<td>0.005</td>\n",
       "<td>8</td>\n",
       "<td>8.0</td>\n",
       "<td>0.85</td>\n",
       "<td>gbm_grid_taxi_model_8</td>\n",
       "<td>0.0498566</td></tr>\n",
       "<tr><td></td>\n",
       "<td>0.7</td>\n",
       "<td>0.005</td>\n",
       "<td>8</td>\n",
       "<td>3.0</td>\n",
       "<td>0.7</td>\n",
       "<td>gbm_grid_taxi_model_6</td>\n",
       "<td>0.0500165</td></tr>\n",
       "<tr><td></td>\n",
       "<td>0.7</td>\n",
       "<td>0.005</td>\n",
       "<td>3</td>\n",
       "<td>5.0</td>\n",
       "<td>0.7</td>\n",
       "<td>gbm_grid_taxi_model_16</td>\n",
       "<td>0.0500390</td></tr></table></div>"
      ]
     },
     "execution_count": 0,
     "metadata": {},
     "output_type": "execute_result"
    },
    {
     "name": "stdout",
     "output_type": "stream",
     "text": [
      "\n"
     ]
    },
    {
     "data": {
      "text/plain": [
       ""
      ]
     },
     "execution_count": 73,
     "metadata": {},
     "output_type": "execute_result"
    }
   ],
   "source": [
    "gbm_grid_performance = gbm_grid.get_grid(sort_by='rmse', decreasing=False)\n",
    "gbm_grid_performance"
   ]
  },
  {
   "cell_type": "code",
   "execution_count": 66,
   "metadata": {},
   "outputs": [
    {
     "data": {
      "text/plain": [
       "0.05012623343311321"
      ]
     },
     "execution_count": 66,
     "metadata": {},
     "output_type": "execute_result"
    }
   ],
   "source": [
    "best_gbm_taxi = gbm_grid_performance.models[0]\n",
    "\n",
    "gbm_taxi_perf = best_gbm_taxi.model_performance(test)\n",
    "\n",
    "gbm_taxi_perf.rmse()"
   ]
  },
  {
   "cell_type": "code",
   "execution_count": 39,
   "metadata": {},
   "outputs": [
    {
     "name": "stdout",
     "output_type": "stream",
     "text": [
      "H2O session _sid_9e37 closed.\n"
     ]
    }
   ],
   "source": [
    "h2o.cluster().shutdown(prompt=False)"
   ]
  },
  {
   "cell_type": "code",
   "execution_count": null,
   "metadata": {},
   "outputs": [],
   "source": []
  }
 ],
 "metadata": {
  "kernelspec": {
   "display_name": "Python 3",
   "language": "python",
   "name": "python3"
  },
  "language_info": {
   "codemirror_mode": {
    "name": "ipython",
    "version": 3
   },
   "file_extension": ".py",
   "mimetype": "text/x-python",
   "name": "python",
   "nbconvert_exporter": "python",
   "pygments_lexer": "ipython3",
   "version": "3.5.5"
  }
 },
 "nbformat": 4,
 "nbformat_minor": 1
}
