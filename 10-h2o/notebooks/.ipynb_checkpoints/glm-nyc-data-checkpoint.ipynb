{
 "cells": [
  {
   "cell_type": "markdown",
   "metadata": {},
   "source": [
    "## H2O modo local"
   ]
  },
  {
   "cell_type": "markdown",
   "metadata": {},
   "source": [
    "#### Inicialização"
   ]
  },
  {
   "cell_type": "code",
   "execution_count": 1,
   "metadata": {
    "scrolled": true
   },
   "outputs": [
    {
     "name": "stdout",
     "output_type": "stream",
     "text": [
      "Checking whether there is an H2O instance running at http://localhost:54321. connected.\n",
      "Warning: Your H2O cluster version is too old (4 months and 2 days)! Please download and install the latest version from http://h2o.ai/download/\n"
     ]
    },
    {
     "data": {
      "text/html": [
       "<div style=\"overflow:auto\"><table style=\"width:50%\"><tr><td>H2O cluster uptime:</td>\n",
       "<td>1 hour 42 mins</td></tr>\n",
       "<tr><td>H2O cluster timezone:</td>\n",
       "<td>America/Sao_Paulo</td></tr>\n",
       "<tr><td>H2O data parsing timezone:</td>\n",
       "<td>UTC</td></tr>\n",
       "<tr><td>H2O cluster version:</td>\n",
       "<td>3.18.0.2</td></tr>\n",
       "<tr><td>H2O cluster version age:</td>\n",
       "<td>4 months and 2 days !!!</td></tr>\n",
       "<tr><td>H2O cluster name:</td>\n",
       "<td>H2O_from_python_cristoferweber_fwvytj</td></tr>\n",
       "<tr><td>H2O cluster total nodes:</td>\n",
       "<td>1</td></tr>\n",
       "<tr><td>H2O cluster free memory:</td>\n",
       "<td>2.945 Gb</td></tr>\n",
       "<tr><td>H2O cluster total cores:</td>\n",
       "<td>4</td></tr>\n",
       "<tr><td>H2O cluster allowed cores:</td>\n",
       "<td>4</td></tr>\n",
       "<tr><td>H2O cluster status:</td>\n",
       "<td>locked, healthy</td></tr>\n",
       "<tr><td>H2O connection url:</td>\n",
       "<td>http://localhost:54321</td></tr>\n",
       "<tr><td>H2O connection proxy:</td>\n",
       "<td>None</td></tr>\n",
       "<tr><td>H2O internal security:</td>\n",
       "<td>False</td></tr>\n",
       "<tr><td>H2O API Extensions:</td>\n",
       "<td>XGBoost, Algos, AutoML, Core V3, Core V4</td></tr>\n",
       "<tr><td>Python version:</td>\n",
       "<td>3.5.5 final</td></tr></table></div>"
      ],
      "text/plain": [
       "--------------------------  ----------------------------------------\n",
       "H2O cluster uptime:         1 hour 42 mins\n",
       "H2O cluster timezone:       America/Sao_Paulo\n",
       "H2O data parsing timezone:  UTC\n",
       "H2O cluster version:        3.18.0.2\n",
       "H2O cluster version age:    4 months and 2 days !!!\n",
       "H2O cluster name:           H2O_from_python_cristoferweber_fwvytj\n",
       "H2O cluster total nodes:    1\n",
       "H2O cluster free memory:    2.945 Gb\n",
       "H2O cluster total cores:    4\n",
       "H2O cluster allowed cores:  4\n",
       "H2O cluster status:         locked, healthy\n",
       "H2O connection url:         http://localhost:54321\n",
       "H2O connection proxy:\n",
       "H2O internal security:      False\n",
       "H2O API Extensions:         XGBoost, Algos, AutoML, Core V3, Core V4\n",
       "Python version:             3.5.5 final\n",
       "--------------------------  ----------------------------------------"
      ]
     },
     "metadata": {},
     "output_type": "display_data"
    }
   ],
   "source": [
    "import h2o\n",
    "\n",
    "h2o.init()"
   ]
  },
  {
   "cell_type": "markdown",
   "metadata": {},
   "source": [
    "#### Carga dos dados de arquivo CSV"
   ]
  },
  {
   "cell_type": "markdown",
   "metadata": {},
   "source": [
    "Este arquivo é uma amostra do do dataset original em formato Parquet.\n",
    "\n",
    "A amostra foi de 5% do conteúdo original.\n",
    "\n",
    "Após amostragem, os seguintes filtros foram aplicados:\n",
    "\n",
    "- Distância (trip_distance) >= 1\n",
    "- Meio de pagamento Cartão (payment_type = 1)\n",
    "- 'Taxa Gorjeta' entre 0 e 0.99"
   ]
  },
  {
   "cell_type": "code",
   "execution_count": 3,
   "metadata": {},
   "outputs": [
    {
     "name": "stdout",
     "output_type": "stream",
     "text": [
      "Parse progress: |█████████████████████████████████████████████████████████| 100%\n"
     ]
    }
   ],
   "source": [
    "h2o_nyc_data = h2o.import_file(\"../data/nyc_yellow_taxi_sample.csv.gz\",\n",
    "                               destination_frame=\"nyc_data\",\n",
    "                               header=1,\n",
    "                               sep=\",\")"
   ]
  },
  {
   "cell_type": "markdown",
   "metadata": {},
   "source": [
    "##### Colunas disponíveis no H2OFrame:"
   ]
  },
  {
   "cell_type": "code",
   "execution_count": 4,
   "metadata": {},
   "outputs": [
    {
     "data": {
      "text/plain": [
       "['tpep_pickup_datetime',\n",
       " 'tpep_dropoff_datetime',\n",
       " 'passenger_count',\n",
       " 'trip_distance',\n",
       " 'pulocationid',\n",
       " 'dolocationid',\n",
       " 'ratecodeid',\n",
       " 'fare_amount',\n",
       " 'extra',\n",
       " 'mta_tax',\n",
       " 'improvement_surcharge',\n",
       " 'Tip_amount',\n",
       " 'Tolls_amount',\n",
       " 'Total_amount']"
      ]
     },
     "execution_count": 4,
     "metadata": {},
     "output_type": "execute_result"
    }
   ],
   "source": [
    "h2o_nyc_data.col_names"
   ]
  },
  {
   "cell_type": "markdown",
   "metadata": {},
   "source": [
    "##### Dimensões do H2OFrame:"
   ]
  },
  {
   "cell_type": "code",
   "execution_count": 5,
   "metadata": {},
   "outputs": [
    {
     "data": {
      "text/plain": [
       "[4487239, 14]"
      ]
     },
     "execution_count": 5,
     "metadata": {},
     "output_type": "execute_result"
    }
   ],
   "source": [
    "h2o_nyc_data.dim"
   ]
  },
  {
   "cell_type": "markdown",
   "metadata": {},
   "source": [
    "#### Criação de algumas features discutidas em aula"
   ]
  },
  {
   "cell_type": "markdown",
   "metadata": {},
   "source": [
    "Todas as features abaixo utilizam operadores e funções disponíveis no H2O.\n",
    "\n",
    "A conversão de 'dayOfWeek' para factor utiliza a abreviatura do dia da semana."
   ]
  },
  {
   "cell_type": "code",
   "execution_count": 6,
   "metadata": {},
   "outputs": [],
   "source": [
    "h2o_nyc_data['tip_rate'] = h2o_nyc_data['Tip_amount'] / h2o_nyc_data['Total_amount']\n",
    "\n",
    "h2o_nyc_data['pickup_hour'] = h2o_nyc_data['tpep_pickup_datetime'].hour()\n",
    "\n",
    "h2o_nyc_data['pickup_weekday'] = h2o_nyc_data['tpep_pickup_datetime'].dayOfWeek().asfactor()"
   ]
  },
  {
   "cell_type": "markdown",
   "metadata": {},
   "source": [
    "#### Um resumo do formato e conteúdo das variáveis.\n",
    "\n",
    "**Vejam nos mínimos e máximos se existem valores que podem afetar o desempenho do modelo.**"
   ]
  },
  {
   "cell_type": "code",
   "execution_count": 7,
   "metadata": {},
   "outputs": [
    {
     "name": "stdout",
     "output_type": "stream",
     "text": [
      "Rows:4487239\n",
      "Cols:17\n",
      "\n",
      "\n"
     ]
    },
    {
     "data": {
      "text/html": [
       "<table>\n",
       "<thead>\n",
       "<tr><th>       </th><th>tpep_pickup_datetime  </th><th>tpep_dropoff_datetime  </th><th>passenger_count   </th><th>trip_distance     </th><th>pulocationid      </th><th>dolocationid      </th><th>ratecodeid        </th><th>fare_amount       </th><th>extra             </th><th>mta_tax           </th><th>improvement_surcharge  </th><th>Tip_amount        </th><th>Tolls_amount       </th><th>Total_amount      </th><th>tip_rate           </th><th>pickup_hour       </th><th>pickup_weekday  </th></tr>\n",
       "</thead>\n",
       "<tbody>\n",
       "<tr><td>type   </td><td>time                  </td><td>time                   </td><td>int               </td><td>real              </td><td>int               </td><td>int               </td><td>int               </td><td>real              </td><td>real              </td><td>real              </td><td>real                   </td><td>real              </td><td>real               </td><td>real              </td><td>real               </td><td>int               </td><td>enum            </td></tr>\n",
       "<tr><td>mins   </td><td>1230809501000.0       </td><td>1230811121000.0        </td><td>0.0               </td><td>1.0               </td><td>1.0               </td><td>1.0               </td><td>1.0               </td><td>0.33              </td><td>-10.6             </td><td>0.0               </td><td>0.0                    </td><td>0.0               </td><td>0.0                </td><td>0.33              </td><td>0.0                </td><td>0.0               </td><td>                </td></tr>\n",
       "<tr><td>mean   </td><td>1498508399688.337     </td><td>1498509575197.6294     </td><td>1.6091090757590576</td><td>3.8096985206270504</td><td>161.80084323567365</td><td>159.14128732612633</td><td>1.0456057722800087</td><td>15.671919784081028</td><td>0.370041069798156 </td><td>0.4978416683399289</td><td>0.29999104126167836    </td><td>3.1381111168805567</td><td>0.49643400095247914</td><td>20.480890794985633</td><td>0.15209084854915264</td><td>13.750892252451921</td><td>                </td></tr>\n",
       "<tr><td>maxs   </td><td>1512061372000.0       </td><td>1512146986000.0        </td><td>192.0             </td><td>183.7             </td><td>265.0             </td><td>265.0             </td><td>99.0              </td><td>465.5             </td><td>10.0              </td><td>11.4              </td><td>0.3                    </td><td>110.0             </td><td>95.76              </td><td>552.57            </td><td>0.49358341559723595</td><td>23.0              </td><td>                </td></tr>\n",
       "<tr><td>sigma  </td><td>9238355312.782312     </td><td>9238409669.085747      </td><td>1.2616635046544722</td><td>4.1146427999242965</td><td>65.59491392448841 </td><td>71.37036450617535 </td><td>0.2849347571494506</td><td>11.965825624516713</td><td>0.4875973754721276</td><td>0.0333168296742776</td><td>0.0016393723912689214  </td><td>2.746178963080608 </td><td>1.7949487333486154 </td><td>15.563014992495331</td><td>0.05009760293882924</td><td>6.485928844692992 </td><td>                </td></tr>\n",
       "<tr><td>zeros  </td><td>0                     </td><td>0                      </td><td>5711              </td><td>0                 </td><td>0                 </td><td>0                 </td><td>0                 </td><td>0                 </td><td>2144685           </td><td>19474             </td><td>134                    </td><td>177766            </td><td>4126412            </td><td>0                 </td><td>177766             </td><td>167070            </td><td>                </td></tr>\n",
       "<tr><td>missing</td><td>0                     </td><td>0                      </td><td>0                 </td><td>0                 </td><td>0                 </td><td>0                 </td><td>0                 </td><td>0                 </td><td>0                 </td><td>0                 </td><td>0                      </td><td>0                 </td><td>0                  </td><td>0                 </td><td>0                  </td><td>0                 </td><td>0               </td></tr>\n",
       "<tr><td>0      </td><td>2017-11-25 10:50:58   </td><td>2017-11-25 11:06:01    </td><td>1.0               </td><td>3.8               </td><td>68.0              </td><td>209.0             </td><td>1.0               </td><td>14.5              </td><td>0.0               </td><td>0.5               </td><td>0.3                    </td><td>3.05              </td><td>0.0                </td><td>18.35             </td><td>0.1662125340599455 </td><td>10.0              </td><td>Sat             </td></tr>\n",
       "<tr><td>1      </td><td>2017-11-25 10:37:41   </td><td>2017-11-25 10:48:01    </td><td>1.0               </td><td>1.28              </td><td>162.0             </td><td>163.0             </td><td>1.0               </td><td>8.5               </td><td>0.0               </td><td>0.5               </td><td>0.3                    </td><td>1.86              </td><td>0.0                </td><td>11.16             </td><td>0.16666666666666669</td><td>10.0              </td><td>Sat             </td></tr>\n",
       "<tr><td>2      </td><td>2017-11-25 10:56:28   </td><td>2017-11-25 11:04:18    </td><td>1.0               </td><td>1.41              </td><td>163.0             </td><td>43.0              </td><td>1.0               </td><td>7.5               </td><td>0.0               </td><td>0.5               </td><td>0.3                    </td><td>1.0               </td><td>0.0                </td><td>9.3               </td><td>0.1075268817204301 </td><td>10.0              </td><td>Sat             </td></tr>\n",
       "<tr><td>3      </td><td>2017-11-25 10:21:15   </td><td>2017-11-25 10:27:46    </td><td>1.0               </td><td>1.34              </td><td>42.0              </td><td>75.0              </td><td>1.0               </td><td>7.0               </td><td>0.0               </td><td>0.5               </td><td>0.3                    </td><td>2.34              </td><td>0.0                </td><td>10.14             </td><td>0.23076923076923075</td><td>10.0              </td><td>Sat             </td></tr>\n",
       "<tr><td>4      </td><td>2017-11-25 10:39:13   </td><td>2017-11-25 10:58:32    </td><td>1.0               </td><td>4.09              </td><td>142.0             </td><td>79.0              </td><td>1.0               </td><td>16.5              </td><td>0.0               </td><td>0.5               </td><td>0.3                    </td><td>3.0               </td><td>0.0                </td><td>20.3              </td><td>0.14778325123152708</td><td>10.0              </td><td>Sat             </td></tr>\n",
       "<tr><td>5      </td><td>2017-11-25 10:52:23   </td><td>2017-11-25 11:16:11    </td><td>1.0               </td><td>10.7              </td><td>138.0             </td><td>164.0             </td><td>1.0               </td><td>32.0              </td><td>0.0               </td><td>0.5               </td><td>0.3                    </td><td>7.71              </td><td>5.76               </td><td>46.27             </td><td>0.1666306462070456 </td><td>10.0              </td><td>Sat             </td></tr>\n",
       "<tr><td>6      </td><td>2017-11-25 10:25:39   </td><td>2017-11-25 10:32:00    </td><td>1.0               </td><td>1.2               </td><td>237.0             </td><td>142.0             </td><td>1.0               </td><td>6.5               </td><td>0.0               </td><td>0.5               </td><td>0.3                    </td><td>1.45              </td><td>0.0                </td><td>8.75              </td><td>0.1657142857142857 </td><td>10.0              </td><td>Sat             </td></tr>\n",
       "<tr><td>7      </td><td>2017-11-25 10:29:58   </td><td>2017-11-25 10:39:30    </td><td>1.0               </td><td>1.96              </td><td>246.0             </td><td>161.0             </td><td>1.0               </td><td>9.0               </td><td>0.0               </td><td>0.5               </td><td>0.3                    </td><td>1.8               </td><td>0.0                </td><td>11.6              </td><td>0.15517241379310345</td><td>10.0              </td><td>Sat             </td></tr>\n",
       "<tr><td>8      </td><td>2017-11-25 10:55:55   </td><td>2017-11-25 11:09:17    </td><td>1.0               </td><td>3.41              </td><td>170.0             </td><td>231.0             </td><td>1.0               </td><td>12.5              </td><td>0.0               </td><td>0.5               </td><td>0.3                    </td><td>2.66              </td><td>0.0                </td><td>15.96             </td><td>0.16666666666666666</td><td>10.0              </td><td>Sat             </td></tr>\n",
       "<tr><td>9      </td><td>2017-11-25 10:32:13   </td><td>2017-11-25 10:56:50    </td><td>1.0               </td><td>5.3               </td><td>162.0             </td><td>97.0              </td><td>1.0               </td><td>21.0              </td><td>0.0               </td><td>0.5               </td><td>0.3                    </td><td>4.0               </td><td>0.0                </td><td>25.8              </td><td>0.15503875968992248</td><td>10.0              </td><td>Sat             </td></tr>\n",
       "</tbody>\n",
       "</table>"
      ]
     },
     "metadata": {},
     "output_type": "display_data"
    }
   ],
   "source": [
    "h2o_nyc_data.describe()"
   ]
  },
  {
   "cell_type": "markdown",
   "metadata": {},
   "source": [
    "#### Inspeção das variáveis\n",
    "\n",
    "Acesse o H2O Flow pelo comando abaixo, visualize o H2OFrame 'nyc_data' e analise as distribuições das variáveis que compõe o dataset. Pelas distribuições, você identifica outros valores que podem interferir na qualidade do modelo? Pense em valores extremos e valores pouco freqüentes. E na nossa variável dependente, 'tip_rate', você considera que valores fora das faixas comuns são facilmente capturáveis por um modelo?"
   ]
  },
  {
   "cell_type": "code",
   "execution_count": 8,
   "metadata": {},
   "outputs": [],
   "source": [
    "h2o.flow()"
   ]
  },
  {
   "cell_type": "markdown",
   "metadata": {},
   "source": [
    "#### Treino e avaliação de modelos de regressão com H2O"
   ]
  },
  {
   "cell_type": "markdown",
   "metadata": {},
   "source": [
    "**Divisão em Treino, Teste e Validação.**\n",
    "\n",
    "Se o treino for muito lento, sugiro a redução do dataset de Treino para .6 e Validação para 0.15. Qual deve ser o tamanho do dataset de Teste?"
   ]
  },
  {
   "cell_type": "code",
   "execution_count": 9,
   "metadata": {},
   "outputs": [],
   "source": [
    "train, test, valid = h2o_nyc_data.split_frame(ratios=[.7, .15], seed=42)"
   ]
  },
  {
   "cell_type": "markdown",
   "metadata": {},
   "source": [
    "#### Regressão Linear com GLM\n",
    "\n",
    "Detalhes de algoritmo e parâmetros discutidos em aula: [link para documentação](http://docs.h2o.ai/h2o/latest-stable/h2o-docs/data-science/glm.html)"
   ]
  },
  {
   "cell_type": "code",
   "execution_count": 10,
   "metadata": {},
   "outputs": [
    {
     "name": "stdout",
     "output_type": "stream",
     "text": [
      "glm Model Build progress: |███████████████████████████████████████████████| 100%\n"
     ]
    }
   ],
   "source": [
    "from h2o.estimators.glm import *\n",
    "\n",
    "taxi_regression = H2OGeneralizedLinearEstimator(family=\"gaussian\", model_id=\"taxi_glm_regression\",\n",
    "                                                alpha=[0.01, 0.05, 0.5, 0.95], lambda_search=True, nlambdas=75, \n",
    "                                                remove_collinear_columns=True)\n",
    "\n",
    "taxi_regression.train(y=\"tip_rate\", \n",
    "                      x=['passenger_count', 'trip_distance', 'fare_amount', 'extra', 'mta_tax', \n",
    "                         'Tolls_amount', 'pickup_hour', 'pickup_weekday'], \n",
    "                      training_frame=train,\n",
    "                      validation_frame=valid)\n"
   ]
  },
  {
   "cell_type": "markdown",
   "metadata": {},
   "source": [
    "#### Detalhes do modelo"
   ]
  },
  {
   "cell_type": "code",
   "execution_count": 11,
   "metadata": {
    "scrolled": false
   },
   "outputs": [
    {
     "data": {
      "application/javascript": [
       "IPython.OutputArea.auto_scroll_threshold = 9999;"
      ],
      "text/plain": [
       "<IPython.core.display.Javascript object>"
      ]
     },
     "metadata": {},
     "output_type": "display_data"
    }
   ],
   "source": [
    "%%javascript\n",
    "IPython.OutputArea.auto_scroll_threshold = 9999;"
   ]
  },
  {
   "cell_type": "code",
   "execution_count": 13,
   "metadata": {
    "scrolled": false
   },
   "outputs": [
    {
     "name": "stdout",
     "output_type": "stream",
     "text": [
      "Model Details\n",
      "=============\n",
      "H2OGeneralizedLinearEstimator :  Generalized Linear Modeling\n",
      "Model Key:  taxi_glm_regression\n",
      "\n",
      "\n",
      "ModelMetricsRegressionGLM: glm\n",
      "** Reported on train data. **\n",
      "\n",
      "MSE: 0.002494149240160708\n",
      "RMSE: 0.04994145813010177\n",
      "MAE: 0.035713662537140145\n",
      "RMSLE: 0.04455038876232908\n",
      "R^2: 0.006435210569492256\n",
      "Mean Residual Deviance: 0.002494149240160708\n",
      "Null degrees of freedom: 3141302\n",
      "Residual degrees of freedom: 3141289\n",
      "Null deviance: 7885.624142323555\n",
      "Residual deviance: 7834.878490564552\n",
      "AIC: -9913704.033594107\n",
      "\n",
      "ModelMetricsRegressionGLM: glm\n",
      "** Reported on validation data. **\n",
      "\n",
      "MSE: 0.002492615350823649\n",
      "RMSE: 0.04992609889450255\n",
      "MAE: 0.035703581892313076\n",
      "RMSLE: 0.04453969951202193\n",
      "R^2: 0.006597851108073538\n",
      "Mean Residual Deviance: 0.002492615350823649\n",
      "Null degrees of freedom: 673151\n",
      "Residual degrees of freedom: 673138\n",
      "Null deviance: 1689.0539629892075\n",
      "Residual deviance: 1677.909008637641\n",
      "AIC: -2124805.0588703263\n",
      "Scoring History: \n"
     ]
    },
    {
     "data": {
      "text/html": [
       "<div style=\"overflow:auto\"><table style=\"width:50%\"><tr><td><b></b></td>\n",
       "<td><b>timestamp</b></td>\n",
       "<td><b>duration</b></td>\n",
       "<td><b>iteration</b></td>\n",
       "<td><b>lambda</b></td>\n",
       "<td><b>predictors</b></td>\n",
       "<td><b>deviance_train</b></td>\n",
       "<td><b>deviance_test</b></td></tr>\n",
       "<tr><td></td>\n",
       "<td>2018-07-08 17:03:40</td>\n",
       "<td> 0.000 sec</td>\n",
       "<td>1</td>\n",
       "<td>.26E0</td>\n",
       "<td>1</td>\n",
       "<td>0.0025103</td>\n",
       "<td>0.0025092</td></tr>\n",
       "<tr><td></td>\n",
       "<td>2018-07-08 17:03:41</td>\n",
       "<td> 0.365 sec</td>\n",
       "<td>2</td>\n",
       "<td>.23E0</td>\n",
       "<td>2</td>\n",
       "<td>0.0025091</td>\n",
       "<td>0.0025079</td></tr>\n",
       "<tr><td></td>\n",
       "<td>2018-07-08 17:03:41</td>\n",
       "<td> 0.546 sec</td>\n",
       "<td>3</td>\n",
       "<td>.2E0</td>\n",
       "<td>2</td>\n",
       "<td>0.0025080</td>\n",
       "<td>0.0025068</td></tr>\n",
       "<tr><td></td>\n",
       "<td>2018-07-08 17:03:41</td>\n",
       "<td> 0.763 sec</td>\n",
       "<td>4</td>\n",
       "<td>.18E0</td>\n",
       "<td>2</td>\n",
       "<td>0.0025071</td>\n",
       "<td>0.0025059</td></tr>\n",
       "<tr><td></td>\n",
       "<td>2018-07-08 17:03:41</td>\n",
       "<td> 0.954 sec</td>\n",
       "<td>5</td>\n",
       "<td>.16E0</td>\n",
       "<td>2</td>\n",
       "<td>0.0025064</td>\n",
       "<td>0.0025052</td></tr>\n",
       "<tr><td>---</td>\n",
       "<td>---</td>\n",
       "<td>---</td>\n",
       "<td>---</td>\n",
       "<td>---</td>\n",
       "<td>---</td>\n",
       "<td>---</td>\n",
       "<td>---</td></tr>\n",
       "<tr><td></td>\n",
       "<td>2018-07-08 17:03:49</td>\n",
       "<td> 8.178 sec</td>\n",
       "<td>26</td>\n",
       "<td>.12E-1</td>\n",
       "<td>11</td>\n",
       "<td>0.0024948</td>\n",
       "<td>0.0024933</td></tr>\n",
       "<tr><td></td>\n",
       "<td>2018-07-08 17:03:49</td>\n",
       "<td> 8.382 sec</td>\n",
       "<td>27</td>\n",
       "<td>.1E-1</td>\n",
       "<td>13</td>\n",
       "<td>0.0024946</td>\n",
       "<td>0.0024931</td></tr>\n",
       "<tr><td></td>\n",
       "<td>2018-07-08 17:03:49</td>\n",
       "<td> 8.593 sec</td>\n",
       "<td>28</td>\n",
       "<td>.91E-2</td>\n",
       "<td>13</td>\n",
       "<td>0.0024944</td>\n",
       "<td>0.0024929</td></tr>\n",
       "<tr><td></td>\n",
       "<td>2018-07-08 17:03:49</td>\n",
       "<td> 8.792 sec</td>\n",
       "<td>29</td>\n",
       "<td>.8E-2</td>\n",
       "<td>14</td>\n",
       "<td>0.0024943</td>\n",
       "<td>0.0024928</td></tr>\n",
       "<tr><td></td>\n",
       "<td>2018-07-08 17:03:49</td>\n",
       "<td> 9.007 sec</td>\n",
       "<td>30</td>\n",
       "<td>.71E-2</td>\n",
       "<td>14</td>\n",
       "<td>0.0024941</td>\n",
       "<td>0.0024926</td></tr></table></div>"
      ],
      "text/plain": [
       "     timestamp            duration    iteration    lambda    predictors    deviance_train         deviance_test\n",
       "---  -------------------  ----------  -----------  --------  ------------  ---------------------  ---------------------\n",
       "     2018-07-08 17:03:40  0.000 sec   1            .26E0     1             0.002510303510091143   0.0025091716605865075\n",
       "     2018-07-08 17:03:41  0.365 sec   2            .23E0     2             0.002509056622814356   0.0025078934946637\n",
       "     2018-07-08 17:03:41  0.546 sec   3            .2E0      2             0.0025080142499810673  0.00250682296679548\n",
       "     2018-07-08 17:03:41  0.763 sec   4            .18E0     2             0.002507148737315352   0.0025059321891512283\n",
       "     2018-07-08 17:03:41  0.954 sec   5            .16E0     2             0.002506434552152117   0.0025051953929332883\n",
       "---  ---                  ---         ---          ---       ---           ---                    ---\n",
       "     2018-07-08 17:03:49  8.178 sec   26           .12E-1    11            0.0024947977807858526  0.0024933219892698216\n",
       "     2018-07-08 17:03:49  8.382 sec   27           .1E-1     13            0.0024945936312415432  0.002493101206990596\n",
       "     2018-07-08 17:03:49  8.593 sec   28           .91E-2    13            0.0024944265081168035  0.0024929192214511588\n",
       "     2018-07-08 17:03:49  8.792 sec   29           .8E-2     14            0.002494281285511886   0.002492760400416147\n",
       "     2018-07-08 17:03:49  9.007 sec   30           .71E-2    14            0.0024941491785796144  0.002492615289985518"
      ]
     },
     "metadata": {},
     "output_type": "display_data"
    },
    {
     "data": {
      "text/plain": []
     },
     "execution_count": 13,
     "metadata": {},
     "output_type": "execute_result"
    }
   ],
   "source": [
    "taxi_regression"
   ]
  },
  {
   "cell_type": "markdown",
   "metadata": {},
   "source": [
    "##### Hiperparâmetros utilizados para Elastic Net"
   ]
  },
  {
   "cell_type": "code",
   "execution_count": 14,
   "metadata": {},
   "outputs": [
    {
     "name": "stdout",
     "output_type": "stream",
     "text": [
      "GLM Model: summary\n",
      "\n"
     ]
    },
    {
     "data": {
      "text/html": [
       "<div style=\"overflow:auto\"><table style=\"width:50%\"><tr><td><b></b></td>\n",
       "<td><b>family</b></td>\n",
       "<td><b>link</b></td>\n",
       "<td><b>regularization</b></td>\n",
       "<td><b>lambda_search</b></td>\n",
       "<td><b>number_of_predictors_total</b></td>\n",
       "<td><b>number_of_active_predictors</b></td>\n",
       "<td><b>number_of_iterations</b></td>\n",
       "<td><b>training_frame</b></td></tr>\n",
       "<tr><td></td>\n",
       "<td>gaussian</td>\n",
       "<td>identity</td>\n",
       "<td>Elastic Net (alpha = 0.01, lambda = 0.007097 )</td>\n",
       "<td>nlambda = 75, lambda.max = 0.2622, lambda.min = 0.007097, lambda.1se = -1.0</td>\n",
       "<td>14</td>\n",
       "<td>13</td>\n",
       "<td>30</td>\n",
       "<td>py_6_sid_a8c4</td></tr></table></div>"
      ],
      "text/plain": [
       "    family    link      regularization                                  lambda_search                                                                number_of_predictors_total    number_of_active_predictors    number_of_iterations    training_frame\n",
       "--  --------  --------  ----------------------------------------------  ---------------------------------------------------------------------------  ----------------------------  -----------------------------  ----------------------  ----------------\n",
       "    gaussian  identity  Elastic Net (alpha = 0.01, lambda = 0.007097 )  nlambda = 75, lambda.max = 0.2622, lambda.min = 0.007097, lambda.1se = -1.0  14                            13                             30                      py_6_sid_a8c4"
      ]
     },
     "metadata": {},
     "output_type": "display_data"
    },
    {
     "data": {
      "text/plain": []
     },
     "execution_count": 14,
     "metadata": {},
     "output_type": "execute_result"
    }
   ],
   "source": [
    "taxi_regression.summary()"
   ]
  },
  {
   "cell_type": "markdown",
   "metadata": {},
   "source": [
    "#### Importância das variáveis do modelo\n",
    "\n",
    "GLM utiliza o peso e sinal dos coeficientes."
   ]
  },
  {
   "cell_type": "code",
   "execution_count": 22,
   "metadata": {},
   "outputs": [
    {
     "name": "stdout",
     "output_type": "stream",
     "text": [
      "Variable importance does not apply to GLM. Will use std_coef_plot() instead.\n"
     ]
    },
    {
     "name": "stderr",
     "output_type": "stream",
     "text": [
      "/anaconda/envs/h2o-aula/lib/python3.5/site-packages/matplotlib/cbook/deprecation.py:107: MatplotlibDeprecationWarning: Passing one of 'on', 'true', 'off', 'false' as a boolean is deprecated; use an actual boolean (True/False) instead.\n",
      "  warnings.warn(message, mplDeprecation, stacklevel=1)\n"
     ]
    },
    {
     "data": {
      "image/png": "[encoded data removed]",
      "text/plain": [
       "<Figure size 1008x720 with 1 Axes>"
      ]
     },
     "metadata": {},
     "output_type": "display_data"
    }
   ],
   "source": [
    "%matplotlib inline\n",
    "taxi_regression.varimp_plot()"
   ]
  },
  {
   "cell_type": "markdown",
   "metadata": {},
   "source": [
    "##### Performance (RMSE) no dataset de Testes"
   ]
  },
  {
   "cell_type": "code",
   "execution_count": 23,
   "metadata": {},
   "outputs": [
    {
     "data": {
      "text/plain": [
       "0.04991381724840367"
      ]
     },
     "execution_count": 23,
     "metadata": {},
     "output_type": "execute_result"
    }
   ],
   "source": [
    "glm_taxi_perf = taxi_regression.model_performance(test)\n",
    "\n",
    "glm_taxi_perf.rmse()"
   ]
  },
  {
   "cell_type": "markdown",
   "metadata": {},
   "source": [
    "**Capacidade explanatória** do modelo. Há muita variância por ser capturada para aumentar este resultado de R^2. \n",
    "\n",
    "Considere a criação de novas variáveis, remoção de variáveis em uso, e filtros de valores que podem estar aumentando muito a variância."
   ]
  },
  {
   "cell_type": "code",
   "execution_count": 24,
   "metadata": {},
   "outputs": [
    {
     "data": {
      "text/plain": [
       "0.006572038031974481"
      ]
     },
     "execution_count": 24,
     "metadata": {},
     "output_type": "execute_result"
    }
   ],
   "source": [
    "glm_taxi_perf.r2()"
   ]
  },
  {
   "cell_type": "code",
   "execution_count": 25,
   "metadata": {},
   "outputs": [],
   "source": [
    "from h2o.estimators.gbm import *\n",
    "\n",
    "taxi_gbm_regression = H2OGradientBoostingEstimator(distribution=\"gaussian\", model_id=\"taxi_gbm_regression\",\n",
    "                                                   ntrees=200, stopping_metric=\"rmse\", stopping_rounds=7, stopping_tolerance=0.0001,\n",
    "                                                   learn_rate=0.2, learn_rate_annealing=0.95,\n",
    "                                                   max_depth=5, min_rows=2, col_sample_rate=0.95, sample_rate=0.7)  \n"
   ]
  },
  {
   "cell_type": "code",
   "execution_count": 26,
   "metadata": {},
   "outputs": [
    {
     "name": "stdout",
     "output_type": "stream",
     "text": [
      "gbm Model Build progress: |███████████████████████████████████████████████| 100%\n"
     ]
    }
   ],
   "source": [
    "taxi_gbm_regression.train(y=\"tip_rate\", \n",
    "                          x=['passenger_count', 'trip_distance', 'fare_amount', 'extra', 'mta_tax', \n",
    "                             'Tolls_amount', 'pickup_hour', 'pickup_weekday'], \n",
    "                          training_frame=train,\n",
    "                          validation_frame=valid)\n"
   ]
  },
  {
   "cell_type": "code",
   "execution_count": 27,
   "metadata": {},
   "outputs": [
    {
     "name": "stdout",
     "output_type": "stream",
     "text": [
      "Model Details\n",
      "=============\n",
      "H2OGradientBoostingEstimator :  Gradient Boosting Machine\n",
      "Model Key:  taxi_gbm_regression\n",
      "\n",
      "\n",
      "ModelMetricsRegression: gbm\n",
      "** Reported on train data. **\n",
      "\n",
      "MSE: 0.0024802866506984066\n",
      "RMSE: 0.04980247635106518\n",
      "MAE: 0.035572226344353294\n",
      "RMSLE: 0.04442777314323025\n",
      "Mean Residual Deviance: 0.0024802866506984066\n",
      "\n",
      "ModelMetricsRegression: gbm\n",
      "** Reported on validation data. **\n",
      "\n",
      "MSE: 0.0024788209429083444\n",
      "RMSE: 0.04978775896652052\n",
      "MAE: 0.03556101615730274\n",
      "RMSLE: 0.04441752602469029\n",
      "Mean Residual Deviance: 0.0024788209429083444\n",
      "Scoring History: \n"
     ]
    },
    {
     "data": {
      "text/html": [
       "<div style=\"overflow:auto\"><table style=\"width:50%\"><tr><td><b></b></td>\n",
       "<td><b>timestamp</b></td>\n",
       "<td><b>duration</b></td>\n",
       "<td><b>number_of_trees</b></td>\n",
       "<td><b>training_rmse</b></td>\n",
       "<td><b>training_mae</b></td>\n",
       "<td><b>training_deviance</b></td>\n",
       "<td><b>validation_rmse</b></td>\n",
       "<td><b>validation_mae</b></td>\n",
       "<td><b>validation_deviance</b></td></tr>\n",
       "<tr><td></td>\n",
       "<td>2018-07-08 17:20:11</td>\n",
       "<td> 0.000 sec</td>\n",
       "<td>0.0</td>\n",
       "<td>0.0501029</td>\n",
       "<td>0.0358632</td>\n",
       "<td>0.0025103</td>\n",
       "<td>0.0500916</td>\n",
       "<td>0.0358578</td>\n",
       "<td>0.0025092</td></tr>\n",
       "<tr><td></td>\n",
       "<td>2018-07-08 17:20:13</td>\n",
       "<td> 1.836 sec</td>\n",
       "<td>1.0</td>\n",
       "<td>0.0500188</td>\n",
       "<td>0.0358097</td>\n",
       "<td>0.0025019</td>\n",
       "<td>0.0500066</td>\n",
       "<td>0.0358025</td>\n",
       "<td>0.0025007</td></tr>\n",
       "<tr><td></td>\n",
       "<td>2018-07-08 17:20:15</td>\n",
       "<td> 3.580 sec</td>\n",
       "<td>2.0</td>\n",
       "<td>0.0499622</td>\n",
       "<td>0.0357657</td>\n",
       "<td>0.0024962</td>\n",
       "<td>0.0499495</td>\n",
       "<td>0.0357576</td>\n",
       "<td>0.0024950</td></tr>\n",
       "<tr><td></td>\n",
       "<td>2018-07-08 17:20:19</td>\n",
       "<td> 7.836 sec</td>\n",
       "<td>5.0</td>\n",
       "<td>0.0498827</td>\n",
       "<td>0.0356879</td>\n",
       "<td>0.0024883</td>\n",
       "<td>0.0498676</td>\n",
       "<td>0.0356771</td>\n",
       "<td>0.0024868</td></tr>\n",
       "<tr><td></td>\n",
       "<td>2018-07-08 17:20:26</td>\n",
       "<td>14.630 sec</td>\n",
       "<td>10.0</td>\n",
       "<td>0.0498390</td>\n",
       "<td>0.0356339</td>\n",
       "<td>0.0024839</td>\n",
       "<td>0.0498224</td>\n",
       "<td>0.0356217</td>\n",
       "<td>0.0024823</td></tr>\n",
       "<tr><td></td>\n",
       "<td>2018-07-08 17:20:33</td>\n",
       "<td>21.788 sec</td>\n",
       "<td>16.0</td>\n",
       "<td>0.0498217</td>\n",
       "<td>0.0356024</td>\n",
       "<td>0.0024822</td>\n",
       "<td>0.0498048</td>\n",
       "<td>0.0355896</td>\n",
       "<td>0.0024805</td></tr>\n",
       "<tr><td></td>\n",
       "<td>2018-07-08 17:20:41</td>\n",
       "<td>30.014 sec</td>\n",
       "<td>23.0</td>\n",
       "<td>0.0498105</td>\n",
       "<td>0.0355843</td>\n",
       "<td>0.0024811</td>\n",
       "<td>0.0497943</td>\n",
       "<td>0.0355720</td>\n",
       "<td>0.0024795</td></tr>\n",
       "<tr><td></td>\n",
       "<td>2018-07-08 17:20:51</td>\n",
       "<td>40.120 sec</td>\n",
       "<td>30.0</td>\n",
       "<td>0.0498059</td>\n",
       "<td>0.0355773</td>\n",
       "<td>0.0024806</td>\n",
       "<td>0.0497905</td>\n",
       "<td>0.0355657</td>\n",
       "<td>0.0024791</td></tr>\n",
       "<tr><td></td>\n",
       "<td>2018-07-08 17:21:00</td>\n",
       "<td>48.410 sec</td>\n",
       "<td>39.0</td>\n",
       "<td>0.0498025</td>\n",
       "<td>0.0355722</td>\n",
       "<td>0.0024803</td>\n",
       "<td>0.0497878</td>\n",
       "<td>0.0355610</td>\n",
       "<td>0.0024788</td></tr>\n",
       "<tr><td></td>\n",
       "<td>2018-07-08 17:21:09</td>\n",
       "<td>57.204 sec</td>\n",
       "<td>70.0</td>\n",
       "<td>0.0498025</td>\n",
       "<td>0.0355722</td>\n",
       "<td>0.0024803</td>\n",
       "<td>0.0497878</td>\n",
       "<td>0.0355610</td>\n",
       "<td>0.0024788</td></tr>\n",
       "<tr><td></td>\n",
       "<td>2018-07-08 17:21:23</td>\n",
       "<td> 1 min 11.538 sec</td>\n",
       "<td>126.0</td>\n",
       "<td>0.0498025</td>\n",
       "<td>0.0355722</td>\n",
       "<td>0.0024803</td>\n",
       "<td>0.0497878</td>\n",
       "<td>0.0355610</td>\n",
       "<td>0.0024788</td></tr>\n",
       "<tr><td></td>\n",
       "<td>2018-07-08 17:21:42</td>\n",
       "<td> 1 min 30.301 sec</td>\n",
       "<td>200.0</td>\n",
       "<td>0.0498025</td>\n",
       "<td>0.0355722</td>\n",
       "<td>0.0024803</td>\n",
       "<td>0.0497878</td>\n",
       "<td>0.0355610</td>\n",
       "<td>0.0024788</td></tr></table></div>"
      ],
      "text/plain": [
       "    timestamp            duration          number_of_trees    training_rmse    training_mae    training_deviance    validation_rmse    validation_mae    validation_deviance\n",
       "--  -------------------  ----------------  -----------------  ---------------  --------------  -------------------  -----------------  ----------------  ---------------------\n",
       "    2018-07-08 17:20:11  0.000 sec         0                  0.0501029        0.0358632       0.0025103            0.0500916          0.0358578         0.00250917\n",
       "    2018-07-08 17:20:13  1.836 sec         1                  0.0500188        0.0358097       0.00250188           0.0500066          0.0358025         0.00250066\n",
       "    2018-07-08 17:20:15  3.580 sec         2                  0.0499622        0.0357657       0.00249622           0.0499495          0.0357576         0.00249496\n",
       "    2018-07-08 17:20:19  7.836 sec         5                  0.0498827        0.0356879       0.00248829           0.0498676          0.0356771         0.00248678\n",
       "    2018-07-08 17:20:26  14.630 sec        10                 0.049839         0.0356339       0.00248393           0.0498224          0.0356217         0.00248227\n",
       "    2018-07-08 17:20:33  21.788 sec        16                 0.0498217        0.0356024       0.0024822            0.0498048          0.0355896         0.00248051\n",
       "    2018-07-08 17:20:41  30.014 sec        23                 0.0498105        0.0355843       0.00248108           0.0497943          0.035572          0.00247947\n",
       "    2018-07-08 17:20:51  40.120 sec        30                 0.0498059        0.0355773       0.00248063           0.0497905          0.0355657         0.00247909\n",
       "    2018-07-08 17:21:00  48.410 sec        39                 0.0498025        0.0355722       0.00248029           0.0497878          0.035561          0.00247882\n",
       "    2018-07-08 17:21:09  57.204 sec        70                 0.0498025        0.0355722       0.00248029           0.0497878          0.035561          0.00247882\n",
       "    2018-07-08 17:21:23  1 min 11.538 sec  126                0.0498025        0.0355722       0.00248029           0.0497878          0.035561          0.00247882\n",
       "    2018-07-08 17:21:42  1 min 30.301 sec  200                0.0498025        0.0355722       0.00248029           0.0497878          0.035561          0.00247882"
      ]
     },
     "metadata": {},
     "output_type": "display_data"
    },
    {
     "name": "stdout",
     "output_type": "stream",
     "text": [
      "Variable Importances: \n"
     ]
    },
    {
     "data": {
      "text/html": [
       "<div style=\"overflow:auto\"><table style=\"width:50%\"><tr><td><b>variable</b></td>\n",
       "<td><b>relative_importance</b></td>\n",
       "<td><b>scaled_importance</b></td>\n",
       "<td><b>percentage</b></td></tr>\n",
       "<tr><td>fare_amount</td>\n",
       "<td>130.6857452</td>\n",
       "<td>1.0</td>\n",
       "<td>0.5055479</td></tr>\n",
       "<tr><td>pickup_hour</td>\n",
       "<td>47.2881622</td>\n",
       "<td>0.3618464</td>\n",
       "<td>0.1829307</td></tr>\n",
       "<tr><td>trip_distance</td>\n",
       "<td>26.6260300</td>\n",
       "<td>0.2037409</td>\n",
       "<td>0.1030008</td></tr>\n",
       "<tr><td>pickup_weekday</td>\n",
       "<td>21.2101212</td>\n",
       "<td>0.1622987</td>\n",
       "<td>0.0820498</td></tr>\n",
       "<tr><td>Tolls_amount</td>\n",
       "<td>17.6089859</td>\n",
       "<td>0.1347430</td>\n",
       "<td>0.0681190</td></tr>\n",
       "<tr><td>extra</td>\n",
       "<td>8.4359045</td>\n",
       "<td>0.0645511</td>\n",
       "<td>0.0326337</td></tr>\n",
       "<tr><td>mta_tax</td>\n",
       "<td>5.8059368</td>\n",
       "<td>0.0444267</td>\n",
       "<td>0.0224598</td></tr>\n",
       "<tr><td>passenger_count</td>\n",
       "<td>0.8422863</td>\n",
       "<td>0.0064451</td>\n",
       "<td>0.0032583</td></tr></table></div>"
      ],
      "text/plain": [
       "variable         relative_importance    scaled_importance    percentage\n",
       "---------------  ---------------------  -------------------  ------------\n",
       "fare_amount      130.686                1                    0.505548\n",
       "pickup_hour      47.2882                0.361846             0.182931\n",
       "trip_distance    26.626                 0.203741             0.103001\n",
       "pickup_weekday   21.2101                0.162299             0.0820498\n",
       "Tolls_amount     17.609                 0.134743             0.068119\n",
       "extra            8.4359                 0.0645511            0.0326337\n",
       "mta_tax          5.80594                0.0444267            0.0224598\n",
       "passenger_count  0.842286               0.00644513           0.00325832"
      ]
     },
     "metadata": {},
     "output_type": "display_data"
    },
    {
     "data": {
      "text/plain": []
     },
     "execution_count": 27,
     "metadata": {},
     "output_type": "execute_result"
    }
   ],
   "source": [
    "taxi_gbm_regression"
   ]
  },
  {
   "cell_type": "code",
   "execution_count": 28,
   "metadata": {},
   "outputs": [
    {
     "name": "stdout",
     "output_type": "stream",
     "text": [
      "Model Summary: \n"
     ]
    },
    {
     "data": {
      "text/html": [
       "<div style=\"overflow:auto\"><table style=\"width:50%\"><tr><td><b></b></td>\n",
       "<td><b>number_of_trees</b></td>\n",
       "<td><b>number_of_internal_trees</b></td>\n",
       "<td><b>model_size_in_bytes</b></td>\n",
       "<td><b>min_depth</b></td>\n",
       "<td><b>max_depth</b></td>\n",
       "<td><b>mean_depth</b></td>\n",
       "<td><b>min_leaves</b></td>\n",
       "<td><b>max_leaves</b></td>\n",
       "<td><b>mean_leaves</b></td></tr>\n",
       "<tr><td></td>\n",
       "<td>200.0</td>\n",
       "<td>200.0</td>\n",
       "<td>29727.0</td>\n",
       "<td>0.0</td>\n",
       "<td>5.0</td>\n",
       "<td>0.925</td>\n",
       "<td>1.0</td>\n",
       "<td>32.0</td>\n",
       "<td>6.56</td></tr></table></div>"
      ],
      "text/plain": [
       "    number_of_trees    number_of_internal_trees    model_size_in_bytes    min_depth    max_depth    mean_depth    min_leaves    max_leaves    mean_leaves\n",
       "--  -----------------  --------------------------  ---------------------  -----------  -----------  ------------  ------------  ------------  -------------\n",
       "    200                200                         29727                  0            5            0.925         1             32            6.56"
      ]
     },
     "metadata": {},
     "output_type": "display_data"
    },
    {
     "data": {
      "text/plain": []
     },
     "execution_count": 28,
     "metadata": {},
     "output_type": "execute_result"
    }
   ],
   "source": [
    "taxi_gbm_regression.summary()"
   ]
  },
  {
   "cell_type": "markdown",
   "metadata": {},
   "source": [
    "Ao contrário do GLM, em GBM (e outros modelos) não temos a noção de sinal (positivo/negativo) pois não há relação monotônica entre a _feature_ e a variável resposta."
   ]
  },
  {
   "cell_type": "code",
   "execution_count": 30,
   "metadata": {},
   "outputs": [
    {
     "data": {
      "image/png": "[encoded data removed]",
      "text/plain": [
       "<Figure size 1008x720 with 1 Axes>"
      ]
     },
     "metadata": {},
     "output_type": "display_data"
    }
   ],
   "source": [
    "taxi_gbm_regression.varimp_plot()"
   ]
  },
  {
   "cell_type": "code",
   "execution_count": null,
   "metadata": {},
   "outputs": [],
   "source": [
    "from h2o.grid.grid_search import H2OGridSearch\n",
    "\n",
    "gbm_params = {'learn_rate': [0.005, 0.01, 0.05, 0.1],\n",
    "              'max_depth': [3, 5, 8],\n",
    "              'sample_rate': [0.7, 0.85, 1.0],\n",
    "              'min_rows': [3, 5, 8, 13, 21],\n",
    "              'col_sample_rate': [0.7, 0.8, 0.95, 1.0]}\n",
    "\n",
    "# COMBINAÇÕES ALEATÓRIAS DURANTE 25 MINUTOS ATÉ UM MÁXIMO DE 15 MODELOS\n",
    "gbm_strategy = {'strategy': \"RandomDiscrete\", 'max_models': 15, 'max_runtime_secs': 25 * 60}\n",
    "\n",
    "gbm_grid = H2OGridSearch(model=H2OGradientBoostingEstimator,\n",
    "                         grid_id='gbm_grid_taxi',\n",
    "                         hyper_params=gbm_params,\n",
    "                         search_criteria=gbm_strategy)\n",
    "\n",
    "gbm_grid.train(y=\"tip_rate\", \n",
    "               x=['passenger_count', 'trip_distance', 'fare_amount', 'extra', 'mta_tax', \n",
    "                  'Tolls_amount', 'pickup_hour', 'pickup_weekday'], \n",
    "               training_frame=train, validation_frame=valid,\n",
    "               distribution=\"gaussian\",  \n",
    "               ntrees=200, stopping_metric=\"rmse\", stopping_rounds=7, stopping_tolerance=0.0005, seed=42)\n"
   ]
  },
  {
   "cell_type": "code",
   "execution_count": null,
   "metadata": {},
   "outputs": [],
   "source": [
    "gbm_grid_performance = gbm_grid.get_grid(sort_by='rmse', decreasing=False)\n",
    "gbm_grid_performance"
   ]
  },
  {
   "cell_type": "code",
   "execution_count": null,
   "metadata": {},
   "outputs": [],
   "source": [
    "best_gbm_taxi = gbm_grid_performance.models[0]\n",
    "\n",
    "gbm_taxi_perf = best_gbm_taxi.model_performance(test)\n",
    "\n",
    "gbm_taxi_perf.rmse()"
   ]
  },
  {
   "cell_type": "code",
   "execution_count": null,
   "metadata": {},
   "outputs": [],
   "source": [
    "h2o.cluster().shutdown(prompt=False)"
   ]
  },
  {
   "cell_type": "code",
   "execution_count": null,
   "metadata": {},
   "outputs": [],
   "source": []
  }
 ],
 "metadata": {
  "kernelspec": {
   "display_name": "Python 3",
   "language": "python",
   "name": "python3"
  },
  "language_info": {
   "codemirror_mode": {
    "name": "ipython",
    "version": 3
   },
   "file_extension": ".py",
   "mimetype": "text/x-python",
   "name": "python",
   "nbconvert_exporter": "python",
   "pygments_lexer": "ipython3",
   "version": "3.5.5"
  }
 },
 "nbformat": 4,
 "nbformat_minor": 1
}
